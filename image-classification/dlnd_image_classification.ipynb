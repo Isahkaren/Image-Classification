{
 "cells": [
  {
   "cell_type": "markdown",
   "metadata": {
    "collapsed": true,
    "nbpresent": {
     "id": "b227af79-cfd8-4ba6-b2af-3f134c7018f0"
    }
   },
   "source": [
    "# Image Classification\n",
    "In this project, you'll classify images from the [CIFAR-10 dataset](https://www.cs.toronto.edu/~kriz/cifar.html).  The dataset consists of airplanes, dogs, cats, and other objects. You'll preprocess the images, then train a convolutional neural network on all the samples. The images need to be normalized and the labels need to be one-hot encoded.  You'll get to apply what you learned and build a convolutional, max pooling, dropout, and fully connected layers.  At the end, you'll get to see your neural network's predictions on the sample images.\n",
    "## Get the Data\n",
    "Run the following cell to download the [CIFAR-10 dataset for python](https://www.cs.toronto.edu/~kriz/cifar-10-python.tar.gz)."
   ]
  },
  {
   "cell_type": "code",
   "execution_count": 14,
   "metadata": {
    "nbpresent": {
     "id": "ce045cc5-45eb-4f6f-b9dd-6d9d34afa622"
    }
   },
   "outputs": [
    {
     "name": "stdout",
     "output_type": "stream",
     "text": [
      "All files found!\n"
     ]
    }
   ],
   "source": [
    "\"\"\"\n",
    "DON'T MODIFY ANYTHING IN THIS CELL THAT IS BELOW THIS LINE\n",
    "\"\"\"\n",
    "from urllib.request import urlretrieve\n",
    "from os.path import isfile, isdir\n",
    "from tqdm import tqdm\n",
    "import problem_unittests as tests\n",
    "import tarfile\n",
    "\n",
    "cifar10_dataset_folder_path = 'cifar-10-batches-py'\n",
    "\n",
    "# Use Floyd's cifar-10 dataset if present\n",
    "floyd_cifar10_location = '/cifar/cifar-10-python.tar.gz'\n",
    "if isfile(floyd_cifar10_location):\n",
    "    tar_gz_path = floyd_cifar10_location\n",
    "else:\n",
    "    tar_gz_path = 'cifar-10-python.tar.gz'\n",
    "\n",
    "class DLProgress(tqdm):\n",
    "    last_block = 0\n",
    "\n",
    "    def hook(self, block_num=1, block_size=1, total_size=None):\n",
    "        self.total = total_size\n",
    "        self.update((block_num - self.last_block) * block_size)\n",
    "        self.last_block = block_num\n",
    "\n",
    "if not isfile(tar_gz_path):\n",
    "    with DLProgress(unit='B', unit_scale=True, miniters=1, desc='CIFAR-10 Dataset') as pbar:\n",
    "        urlretrieve(\n",
    "            'https://www.cs.toronto.edu/~kriz/cifar-10-python.tar.gz',\n",
    "            tar_gz_path,\n",
    "            pbar.hook)\n",
    "\n",
    "if not isdir(cifar10_dataset_folder_path):\n",
    "    with tarfile.open(tar_gz_path) as tar:\n",
    "        tar.extractall()\n",
    "        tar.close()\n",
    "\n",
    "\n",
    "tests.test_folder_path(cifar10_dataset_folder_path)"
   ]
  },
  {
   "cell_type": "markdown",
   "metadata": {
    "nbpresent": {
     "id": "229f63ae-9dfe-46a4-9c07-84397fc269a3"
    }
   },
   "source": [
    "## Explore the Data\n",
    "The dataset is broken into batches to prevent your machine from running out of memory.  The CIFAR-10 dataset consists of 5 batches, named `data_batch_1`, `data_batch_2`, etc.. Each batch contains the labels and images that are one of the following:\n",
    "* airplane\n",
    "* automobile\n",
    "* bird\n",
    "* cat\n",
    "* deer\n",
    "* dog\n",
    "* frog\n",
    "* horse\n",
    "* ship\n",
    "* truck\n",
    "\n",
    "Understanding a dataset is part of making predictions on the data.  Play around with the code cell below by changing the `batch_id` and `sample_id`. The `batch_id` is the id for a batch (1-5). The `sample_id` is the id for a image and label pair in the batch.\n",
    "\n",
    "Ask yourself \"What are all possible labels?\", \"What is the range of values for the image data?\", \"Are the labels in order or random?\".  Answers to questions like these will help you preprocess the data and end up with better predictions."
   ]
  },
  {
   "cell_type": "code",
   "execution_count": 15,
   "metadata": {
    "nbpresent": {
     "id": "a79c9135-da4b-4b13-9ef7-d972016ef90c"
    }
   },
   "outputs": [
    {
     "name": "stdout",
     "output_type": "stream",
     "text": [
      "\n",
      "Stats of batch 3:\n",
      "Samples: 10000\n",
      "Label Counts: {0: 994, 1: 1042, 2: 965, 3: 997, 4: 990, 5: 1029, 6: 978, 7: 1015, 8: 961, 9: 1029}\n",
      "First 20 Labels: [8, 5, 0, 6, 9, 2, 8, 3, 6, 2, 7, 4, 6, 9, 0, 0, 7, 3, 7, 2]\n",
      "\n",
      "Example of Image 420:\n",
      "Image - Min Value: 0 Max Value: 255\n",
      "Image - Shape: (32, 32, 3)\n",
      "Label - Label Id: 9 Name: truck\n"
     ]
    },
    {
     "data": {
      "image/png": "[encoded data removed]",
      "text/plain": [
       "<matplotlib.figure.Figure at 0x7ff1e1aa6b70>"
      ]
     },
     "metadata": {
      "image/png": {
       "height": 250,
       "width": 253
      }
     },
     "output_type": "display_data"
    }
   ],
   "source": [
    "%matplotlib inline\n",
    "%config InlineBackend.figure_format = 'retina'\n",
    "\n",
    "import helper\n",
    "import numpy as np\n",
    "\n",
    "# Explore the dataset\n",
    "batch_id = 3\n",
    "sample_id = 420\n",
    "helper.display_stats(cifar10_dataset_folder_path, batch_id, sample_id)"
   ]
  },
  {
   "cell_type": "markdown",
   "metadata": {
    "nbpresent": {
     "id": "59f5ba1d-0534-49c4-ad67-aec006dfe311"
    }
   },
   "source": [
    "## Implement Preprocess Functions\n",
    "### Normalize\n",
    "In the cell below, implement the `normalize` function to take in image data, `x`, and return it as a normalized Numpy array. The values should be in the range of 0 to 1, inclusive.  The return object should be the same shape as `x`."
   ]
  },
  {
   "cell_type": "code",
   "execution_count": 16,
   "metadata": {
    "nbpresent": {
     "id": "bb672799-5194-4bdc-b572-7b3356d93d67"
    }
   },
   "outputs": [
    {
     "name": "stdout",
     "output_type": "stream",
     "text": [
      "Tests Passed\n"
     ]
    }
   ],
   "source": [
    "def normalize(x):\n",
    "    \"\"\"\n",
    "    Normalize a list of sample image data in the range of 0 to 1\n",
    "    : x: List of image data.  The image shape is (32, 32, 3)\n",
    "    : return: Numpy array of normalize data\n",
    "    \"\"\"\n",
    "    # TODO: Implement Function\n",
    "    return x/255.\n",
    "\n",
    "\n",
    "\"\"\"\n",
    "DON'T MODIFY ANYTHING IN THIS CELL THAT IS BELOW THIS LINE\n",
    "\"\"\"\n",
    "tests.test_normalize(normalize)"
   ]
  },
  {
   "cell_type": "markdown",
   "metadata": {
    "nbpresent": {
     "id": "957e87b0-7580-486f-8235-9747a092e680"
    }
   },
   "source": [
    "### One-hot encode\n",
    "Just like the previous code cell, you'll be implementing a function for preprocessing.  This time, you'll implement the `one_hot_encode` function. The input, `x`, are a list of labels.  Implement the function to return the list of labels as One-Hot encoded Numpy array.  The possible values for labels are 0 to 9. The one-hot encoding function should return the same encoding for each value between each call to `one_hot_encode`.  Make sure to save the map of encodings outside the function.\n",
    "\n",
    "Hint: Don't reinvent the wheel."
   ]
  },
  {
   "cell_type": "code",
   "execution_count": 17,
   "metadata": {
    "nbpresent": {
     "id": "0216d318-317b-4a04-a9e7-284a09575372"
    }
   },
   "outputs": [
    {
     "name": "stdout",
     "output_type": "stream",
     "text": [
      "Tests Passed\n"
     ]
    }
   ],
   "source": [
    "from sklearn.preprocessing import OneHotEncoder\n",
    "\n",
    "def one_hot_encode(x):\n",
    "    \"\"\"\n",
    "    One hot encode a list of sample labels. Return a one-hot encoded vector for each label.\n",
    "    : x: List of sample Labels\n",
    "    : return: Numpy array of one-hot encoded labels\n",
    "    \"\"\"\n",
    "    \n",
    "    # TODO: Implement Function\n",
    "    enc = OneHotEncoder(10)\n",
    "    enc.fit([[val] for val in x])\n",
    "    \n",
    "    \n",
    "    return enc.transform([[val] for val in x]).toarray()\n",
    "\n",
    "\n",
    "\"\"\"\n",
    "DON'T MODIFY ANYTHING IN THIS CELL THAT IS BELOW THIS LINE\n",
    "\"\"\"\n",
    "tests.test_one_hot_encode(one_hot_encode)"
   ]
  },
  {
   "cell_type": "markdown",
   "metadata": {
    "nbpresent": {
     "id": "cee96232-3261-40ed-aa80-79b193873478"
    }
   },
   "source": [
    "### Randomize Data\n",
    "As you saw from exploring the data above, the order of the samples are randomized.  It doesn't hurt to randomize it again, but you don't need to for this dataset."
   ]
  },
  {
   "cell_type": "markdown",
   "metadata": {
    "nbpresent": {
     "id": "2971db85-4033-49e8-aef5-b031e4f6be04"
    }
   },
   "source": [
    "## Preprocess all the data and save it\n",
    "Running the code cell below will preprocess all the CIFAR-10 data and save it to file. The code below also uses 10% of the training data for validation."
   ]
  },
  {
   "cell_type": "code",
   "execution_count": 18,
   "metadata": {
    "nbpresent": {
     "id": "d18983e4-9dc1-4149-9e97-4407227d41f2"
    }
   },
   "outputs": [],
   "source": [
    "\"\"\"\n",
    "DON'T MODIFY ANYTHING IN THIS CELL\n",
    "\"\"\"\n",
    "# Preprocess Training, Validation, and Testing Data\n",
    "helper.preprocess_and_save_data(cifar10_dataset_folder_path, normalize, one_hot_encode)"
   ]
  },
  {
   "cell_type": "markdown",
   "metadata": {
    "nbpresent": {
     "id": "dd6631eb-9a87-4794-a743-b7717cd14ca9"
    }
   },
   "source": [
    "# Check Point\n",
    "This is your first checkpoint.  If you ever decide to come back to this notebook or have to restart the notebook, you can start from here.  The preprocessed data has been saved to disk."
   ]
  },
  {
   "cell_type": "code",
   "execution_count": 19,
   "metadata": {
    "nbpresent": {
     "id": "c4958283-4f3b-4c25-b227-55270c060af8"
    }
   },
   "outputs": [],
   "source": [
    "\"\"\"\n",
    "DON'T MODIFY ANYTHING IN THIS CELL\n",
    "\"\"\"\n",
    "import pickle\n",
    "import problem_unittests as tests\n",
    "import helper\n",
    "\n",
    "# Load the Preprocessed Validation data\n",
    "valid_features, valid_labels = pickle.load(open('preprocess_validation.p', mode='rb'))"
   ]
  },
  {
   "cell_type": "markdown",
   "metadata": {
    "nbpresent": {
     "id": "a671e145-09b2-460a-a71f-2527b9a13c04"
    }
   },
   "source": [
    "## Build the network\n",
    "For the neural network, you'll build each layer into a function.  Most of the code you've seen has been outside of functions. To test your code more thoroughly, we require that you put each layer in a function.  This allows us to give you better feedback and test for simple mistakes using our unittests before you submit your project.\n",
    "\n",
    ">**Note:** If you're finding it hard to dedicate enough time for this course each week, we've provided a small shortcut to this part of the project. In the next couple of problems, you'll have the option to use classes from the [TensorFlow Layers](https://www.tensorflow.org/api_docs/python/tf/layers) or [TensorFlow Layers (contrib)](https://www.tensorflow.org/api_guides/python/contrib.layers) packages to build each layer, except the layers you build in the \"Convolutional and Max Pooling Layer\" section.  TF Layers is similar to Keras's and TFLearn's abstraction to layers, so it's easy to pickup.\n",
    "\n",
    ">However, if you would like to get the most out of this course, try to solve all the problems _without_ using anything from the TF Layers packages. You **can** still use classes from other packages that happen to have the same name as ones you find in TF Layers! For example, instead of using the TF Layers version of the `conv2d` class, [tf.layers.conv2d](https://www.tensorflow.org/api_docs/python/tf/layers/conv2d), you would want to use the TF Neural Network version of `conv2d`, [tf.nn.conv2d](https://www.tensorflow.org/api_docs/python/tf/nn/conv2d). \n",
    "\n",
    "Let's begin!\n",
    "\n",
    "### Input\n",
    "The neural network needs to read the image data, one-hot encoded labels, and dropout keep probability. Implement the following functions\n",
    "* Implement `neural_net_image_input`\n",
    " * Return a [TF Placeholder](https://www.tensorflow.org/api_docs/python/tf/placeholder)\n",
    " * Set the shape using `image_shape` with batch size set to `None`.\n",
    " * Name the TensorFlow placeholder \"x\" using the TensorFlow `name` parameter in the [TF Placeholder](https://www.tensorflow.org/api_docs/python/tf/placeholder).\n",
    "* Implement `neural_net_label_input`\n",
    " * Return a [TF Placeholder](https://www.tensorflow.org/api_docs/python/tf/placeholder)\n",
    " * Set the shape using `n_classes` with batch size set to `None`.\n",
    " * Name the TensorFlow placeholder \"y\" using the TensorFlow `name` parameter in the [TF Placeholder](https://www.tensorflow.org/api_docs/python/tf/placeholder).\n",
    "* Implement `neural_net_keep_prob_input`\n",
    " * Return a [TF Placeholder](https://www.tensorflow.org/api_docs/python/tf/placeholder) for dropout keep probability.\n",
    " * Name the TensorFlow placeholder \"keep_prob\" using the TensorFlow `name` parameter in the [TF Placeholder](https://www.tensorflow.org/api_docs/python/tf/placeholder).\n",
    "\n",
    "These names will be used at the end of the project to load your saved model.\n",
    "\n",
    "Note: `None` for shapes in TensorFlow allow for a dynamic size."
   ]
  },
  {
   "cell_type": "code",
   "execution_count": 20,
   "metadata": {
    "nbpresent": {
     "id": "f4eeaa0d-81a5-4e91-b2f9-5f06f7cdc41a"
    }
   },
   "outputs": [
    {
     "name": "stdout",
     "output_type": "stream",
     "text": [
      "Image Input Tests Passed.\n",
      "Label Input Tests Passed.\n",
      "Keep Prob Tests Passed.\n"
     ]
    }
   ],
   "source": [
    "import tensorflow as tf\n",
    "\n",
    "def neural_net_image_input(image_shape):\n",
    "    \"\"\"\n",
    "    Return a Tensor for a batch of image input\n",
    "    : image_shape: Shape of the images\n",
    "    : return: Tensor for image input.\n",
    "    \"\"\"\n",
    "    # TODO: Implement Function\n",
    "    return tf.placeholder(tf.float32,shape=[None, image_shape[0], image_shape[1], image_shape[2]], name=\"x\")\n",
    "\n",
    "\n",
    "\n",
    "\n",
    "def neural_net_label_input(n_classes):\n",
    "    \"\"\"\n",
    "    Return a Tensor for a batch of label input\n",
    "    : n_classes: Number of classes\n",
    "    : return: Tensor for label input.\n",
    "    \"\"\"\n",
    "    # TODO: Implement Function\n",
    "    return tf.placeholder(tf.float32,shape=[None, n_classes], name=\"y\")\n",
    "\n",
    "\n",
    "def neural_net_keep_prob_input():\n",
    "    \"\"\"\n",
    "    Return a Tensor for keep probability\n",
    "    : return: Tensor for keep probability.\n",
    "    \"\"\"\n",
    "    # TODO: Implement Function\n",
    "    return tf.placeholder(tf.float32, name=\"keep_prob\")\n",
    "\n",
    "\n",
    "\"\"\"\n",
    "DON'T MODIFY ANYTHING IN THIS CELL THAT IS BELOW THIS LINE\n",
    "\"\"\"\n",
    "tf.reset_default_graph()\n",
    "tests.test_nn_image_inputs(neural_net_image_input)\n",
    "tests.test_nn_label_inputs(neural_net_label_input)\n",
    "tests.test_nn_keep_prob_inputs(neural_net_keep_prob_input)"
   ]
  },
  {
   "cell_type": "markdown",
   "metadata": {
    "nbpresent": {
     "id": "a870740f-4504-4860-a3e9-71448534c3f6"
    }
   },
   "source": [
    "### Convolution and Max Pooling Layer\n",
    "Convolution layers have a lot of success with images. For this code cell, you should implement the function `conv2d_maxpool` to apply convolution then max pooling:\n",
    "* Create the weight and bias using `conv_ksize`, `conv_num_outputs` and the shape of `x_tensor`.\n",
    "* Apply a convolution to `x_tensor` using weight and `conv_strides`.\n",
    " * We recommend you use same padding, but you're welcome to use any padding.\n",
    "* Add bias\n",
    "* Add a nonlinear activation to the convolution.\n",
    "* Apply Max Pooling using `pool_ksize` and `pool_strides`.\n",
    " * We recommend you use same padding, but you're welcome to use any padding.\n",
    "\n",
    "**Note:** You **can't** use [TensorFlow Layers](https://www.tensorflow.org/api_docs/python/tf/layers) or [TensorFlow Layers (contrib)](https://www.tensorflow.org/api_guides/python/contrib.layers) for **this** layer, but you can still use TensorFlow's [Neural Network](https://www.tensorflow.org/api_docs/python/tf/nn) package. You may still use the shortcut option for all the **other** layers."
   ]
  },
  {
   "cell_type": "code",
   "execution_count": 21,
   "metadata": {
    "nbpresent": {
     "id": "85b44b81-a5b5-4397-ab9d-43d0627886e3"
    }
   },
   "outputs": [
    {
     "name": "stdout",
     "output_type": "stream",
     "text": [
      "(2, 2)\n",
      "Tests Passed\n"
     ]
    }
   ],
   "source": [
    "def conv2d_maxpool(x_tensor, conv_num_outputs, conv_ksize, conv_strides, pool_ksize, pool_strides):\n",
    "    \"\"\"\n",
    "    Apply convolution then max pooling to x_tensor\n",
    "    :param x_tensor: TensorFlow Tensor\n",
    "    :param conv_num_outputs: Number of outputs for the convolutional layer\n",
    "    :param conv_ksize: kernal size 2-D Tuple for the convolutional layer\n",
    "    :param conv_strides: Stride 2-D Tuple for convolution\n",
    "    :param pool_ksize: kernal size 2-D Tuple for pool\n",
    "    :param pool_strides: Stride 2-D Tuple for pool\n",
    "    : return: A tensor that represents convolution and max pooling of x_tensor\n",
    "    \"\"\"\n",
    "    # TODO: Implement Function\n",
    "    print (pool_strides)\n",
    "    weight = tf.Variable(tf.truncated_normal([conv_ksize[0], conv_ksize[1], x_tensor.shape[3].value, conv_num_outputs],\n",
    "                                            stddev= 1/np.sqrt(conv_ksize[0])))\n",
    "    \n",
    "    bias = tf.Variable(tf.zeros(conv_num_outputs))\n",
    "    \n",
    "    conv_layer = tf.nn.conv2d(x_tensor, weight,  strides=[1, conv_strides[0], conv_strides[1], 1], padding='SAME')\n",
    "    conv_layer = tf.nn.bias_add(conv_layer, bias)\n",
    "    \n",
    "    conv_layer = tf.nn.max_pool(\n",
    "                                conv_layer,\n",
    "                                ksize=[1, pool_ksize[0], pool_ksize[1], 1],\n",
    "                                strides=[1, pool_strides[0], pool_strides[1], 1],\n",
    "                                padding='SAME')\n",
    "    \n",
    "    conv_layer = tf.nn.relu(conv_layer)\n",
    "    \n",
    "    \n",
    "    return conv_layer\n",
    "\n",
    "\n",
    "\"\"\"\n",
    "DON'T MODIFY ANYTHING IN THIS CELL THAT IS BELOW THIS LINE\n",
    "\"\"\"\n",
    "tests.test_con_pool(conv2d_maxpool)"
   ]
  },
  {
   "cell_type": "markdown",
   "metadata": {
    "nbpresent": {
     "id": "9f63063b-497b-4a8e-9742-f83ace827c0c"
    }
   },
   "source": [
    "### Flatten Layer\n",
    "Implement the `flatten` function to change the dimension of `x_tensor` from a 4-D tensor to a 2-D tensor.  The output should be the shape (*Batch Size*, *Flattened Image Size*). Shortcut option: you can use classes from the [TensorFlow Layers](https://www.tensorflow.org/api_docs/python/tf/layers) or [TensorFlow Layers (contrib)](https://www.tensorflow.org/api_guides/python/contrib.layers) packages for this layer. For more of a challenge, only use other TensorFlow packages."
   ]
  },
  {
   "cell_type": "code",
   "execution_count": 22,
   "metadata": {
    "nbpresent": {
     "id": "ed9a730e-d6c3-4d61-81e7-0b6aca882cef"
    }
   },
   "outputs": [
    {
     "name": "stdout",
     "output_type": "stream",
     "text": [
      "Tests Passed\n"
     ]
    }
   ],
   "source": [
    "def flatten(x_tensor):\n",
    "    \"\"\"\n",
    "    Flatten x_tensor to (Batch Size, Flattened Image Size)\n",
    "    : x_tensor: A tensor of size (Batch Size, ...), where ... are the image dimensions.\n",
    "    : return: A tensor of size (Batch Size, Flattened Image Size).\n",
    "    \"\"\"\n",
    "    # TODO: Implement Function\n",
    "    flatten_shape = x_tensor.get_shape().as_list()[1]*x_tensor.get_shape().as_list()[2]*x_tensor.get_shape().as_list()[3]\n",
    "    return tf.reshape(x_tensor, [-1, flatten_shape])\n",
    "\n",
    "\"\"\"\n",
    "DON'T MODIFY ANYTHING IN THIS CELL THAT IS BELOW THIS LINE\n",
    "\"\"\"\n",
    "tests.test_flatten(flatten)"
   ]
  },
  {
   "cell_type": "markdown",
   "metadata": {
    "nbpresent": {
     "id": "2e785cd8-c30d-4397-87a9-e8b29916479f"
    }
   },
   "source": [
    "### Fully-Connected Layer\n",
    "Implement the `fully_conn` function to apply a fully connected layer to `x_tensor` with the shape (*Batch Size*, *num_outputs*). Shortcut option: you can use classes from the [TensorFlow Layers](https://www.tensorflow.org/api_docs/python/tf/layers) or [TensorFlow Layers (contrib)](https://www.tensorflow.org/api_guides/python/contrib.layers) packages for this layer. For more of a challenge, only use other TensorFlow packages."
   ]
  },
  {
   "cell_type": "code",
   "execution_count": 23,
   "metadata": {
    "nbpresent": {
     "id": "cb379f29-c5d4-4a6e-b196-8077e6f55bde"
    }
   },
   "outputs": [
    {
     "name": "stdout",
     "output_type": "stream",
     "text": [
      "Tests Passed\n"
     ]
    }
   ],
   "source": [
    "def fully_conn(x_tensor, num_outputs):\n",
    "    \"\"\"\n",
    "    Apply a fully connected layer to x_tensor using weight and bias\n",
    "    : x_tensor: A 2-D tensor where the first dimension is batch size.\n",
    "    : num_outputs: The number of output that the new tensor should be.\n",
    "    : return: A 2-D tensor where the second dimension is num_outputs.\n",
    "    \"\"\"\n",
    "    # TODO: Implement Function\n",
    "    weight = tf.Variable(tf.truncated_normal([x_tensor.shape[1].value, num_outputs],\n",
    "                                            stddev= 1/np.sqrt(x_tensor.get_shape().as_list()[1])))\n",
    "    \n",
    "    bias = tf.Variable(tf.zeros(num_outputs))\n",
    "    return tf.nn.relu(tf.add(tf.matmul(x_tensor, weight), bias))\n",
    "\n",
    "\n",
    "\"\"\"\n",
    "DON'T MODIFY ANYTHING IN THIS CELL THAT IS BELOW THIS LINE\n",
    "\"\"\"\n",
    "tests.test_fully_conn(fully_conn)"
   ]
  },
  {
   "cell_type": "markdown",
   "metadata": {
    "nbpresent": {
     "id": "8bf984d0-f239-46c8-98b1-4ee71dda136c"
    }
   },
   "source": [
    "### Output Layer\n",
    "Implement the `output` function to apply a fully connected layer to `x_tensor` with the shape (*Batch Size*, *num_outputs*). Shortcut option: you can use classes from the [TensorFlow Layers](https://www.tensorflow.org/api_docs/python/tf/layers) or [TensorFlow Layers (contrib)](https://www.tensorflow.org/api_guides/python/contrib.layers) packages for this layer. For more of a challenge, only use other TensorFlow packages.\n",
    "\n",
    "**Note:** Activation, softmax, or cross entropy should **not** be applied to this."
   ]
  },
  {
   "cell_type": "code",
   "execution_count": 24,
   "metadata": {
    "nbpresent": {
     "id": "80a526d7-e328-4529-8478-2ed962b5998d"
    }
   },
   "outputs": [
    {
     "name": "stdout",
     "output_type": "stream",
     "text": [
      "Tests Passed\n"
     ]
    }
   ],
   "source": [
    "def output(x_tensor, num_outputs):\n",
    "    \"\"\"\n",
    "    Apply a output layer to x_tensor using weight and bias\n",
    "    : x_tensor: A 2-D tensor where the first dimension is batch size.\n",
    "    : num_outputs: The number of output that the new tensor should be.\n",
    "    : return: A 2-D tensor where the second dimension is num_outputs.\n",
    "    \"\"\"\n",
    "    # TODO: Implement Function\n",
    "    weight = tf.Variable(tf.truncated_normal([x_tensor.shape[1].value, num_outputs],\n",
    "                                            stddev= 1/np.sqrt(x_tensor.get_shape().as_list()[1])))\n",
    "    \n",
    "    bias = tf.Variable(tf.zeros(num_outputs))\n",
    "    return tf.add(tf.matmul(x_tensor, weight), bias)\n",
    "\n",
    "\n",
    "\"\"\"\n",
    "DON'T MODIFY ANYTHING IN THIS CELL THAT IS BELOW THIS LINE\n",
    "\"\"\"\n",
    "tests.test_output(output)"
   ]
  },
  {
   "cell_type": "markdown",
   "metadata": {
    "nbpresent": {
     "id": "a96e921f-f344-4c88-aaf7-883a59f6737a"
    }
   },
   "source": [
    "### Create Convolutional Model\n",
    "Implement the function `conv_net` to create a convolutional neural network model. The function takes in a batch of images, `x`, and outputs logits.  Use the layers you created above to create this model:\n",
    "\n",
    "* Apply 1, 2, or 3 Convolution and Max Pool layers\n",
    "* Apply a Flatten Layer\n",
    "* Apply 1, 2, or 3 Fully Connected Layers\n",
    "* Apply an Output Layer\n",
    "* Return the output\n",
    "* Apply [TensorFlow's Dropout](https://www.tensorflow.org/api_docs/python/tf/nn/dropout) to one or more layers in the model using `keep_prob`. "
   ]
  },
  {
   "cell_type": "code",
   "execution_count": 25,
   "metadata": {
    "nbpresent": {
     "id": "f8d83437-fe26-48d4-8097-e3152e06b040"
    }
   },
   "outputs": [
    {
     "name": "stdout",
     "output_type": "stream",
     "text": [
      "(1, 1)\n",
      "(1, 1)\n",
      "(2, 2)\n",
      "(1, 1)\n",
      "(1, 1)\n",
      "(2, 2)\n",
      "Neural Network Built!\n"
     ]
    }
   ],
   "source": [
    "def conv_net(x, keep_prob):\n",
    "    \"\"\"\n",
    "    Create a convolutional neural network model\n",
    "    : x: Placeholder tensor that holds image data.\n",
    "    : keep_prob: Placeholder tensor that hold dropout keep probability.\n",
    "    : return: Tensor that represents logits\n",
    "    \"\"\"\n",
    "    # TODO: Apply 1, 2, or 3 Convolution and Max Pool layers\n",
    "    #    Play around with different number of outputs, kernel size and stride\n",
    "    # Function Definition from Above:\n",
    "    #    conv2d_maxpool(x_tensor, conv_num_outputs, conv_ksize, conv_strides, pool_ksize, pool_strides)\n",
    "    conv1 = conv2d_maxpool(x, 32, (2,2), (1,1), (2,2), (1,1))\n",
    "    conv2 = conv2d_maxpool(x, 64, (2,2), (1,1), (2,2), (1,1))\n",
    "    conv3 = conv2d_maxpool(x, 128, (2,2), (1,1), (2,2), (2,2))\n",
    "    \n",
    "\n",
    "    # TODO: Apply a Flatten Layer\n",
    "    # Function Definition from Above:\n",
    "    #   flatten(x_tensor)\n",
    "    flat = flatten(conv3)\n",
    "    \n",
    "\n",
    "    # TODO: Apply 1, 2, or 3 Fully Connected Layers\n",
    "    #    Play around with different number of outputs\n",
    "    # Function Definition from Above:\n",
    "    #   fully_conn(x_tensor, num_outputs)\n",
    "    \n",
    "    #fullconn1 = fully_conn(flat, 512)\n",
    "    fullconn2 = fully_conn(flat, 256)\n",
    "    \n",
    "    dropout = tf.nn.dropout(fullconn2, keep_prob)\n",
    "    \n",
    "    # TODO: Apply an Output Layer\n",
    "    #    Set this to the number of classes\n",
    "    # Function Definition from Above:\n",
    "    #   output(x_tensor, num_outputs)\n",
    "    out = output(dropout, 10)\n",
    "    \n",
    "    # TODO: return output\n",
    "    return out\n",
    "\n",
    "\n",
    "\"\"\"\n",
    "DON'T MODIFY ANYTHING IN THIS CELL THAT IS BELOW THIS LINE\n",
    "\"\"\"\n",
    "\n",
    "##############################\n",
    "## Build the Neural Network ##\n",
    "##############################\n",
    "\n",
    "# Remove previous weights, bias, inputs, etc..\n",
    "tf.reset_default_graph()\n",
    "\n",
    "# Inputs\n",
    "x = neural_net_image_input((32, 32, 3))\n",
    "y = neural_net_label_input(10)\n",
    "keep_prob = neural_net_keep_prob_input()\n",
    "\n",
    "# Model\n",
    "logits = conv_net(x, keep_prob)\n",
    "\n",
    "# Name logits Tensor, so that is can be loaded from disk after training\n",
    "logits = tf.identity(logits, name='logits')\n",
    "\n",
    "# Loss and Optimizer\n",
    "cost = tf.reduce_mean(tf.nn.softmax_cross_entropy_with_logits(logits=logits, labels=y))\n",
    "optimizer = tf.train.AdamOptimizer().minimize(cost)\n",
    "\n",
    "# Accuracy\n",
    "correct_pred = tf.equal(tf.argmax(logits, 1), tf.argmax(y, 1))\n",
    "accuracy = tf.reduce_mean(tf.cast(correct_pred, tf.float32), name='accuracy')\n",
    "\n",
    "tests.test_conv_net(conv_net)"
   ]
  },
  {
   "cell_type": "markdown",
   "metadata": {
    "nbpresent": {
     "id": "26be5398-aef3-4406-92a8-29608d5fe4ce"
    }
   },
   "source": [
    "## Train the Neural Network\n",
    "### Single Optimization\n",
    "Implement the function `train_neural_network` to do a single optimization.  The optimization should use `optimizer` to optimize in `session` with a `feed_dict` of the following:\n",
    "* `x` for image input\n",
    "* `y` for labels\n",
    "* `keep_prob` for keep probability for dropout\n",
    "\n",
    "This function will be called for each batch, so `tf.global_variables_initializer()` has already been called.\n",
    "\n",
    "Note: Nothing needs to be returned. This function is only optimizing the neural network."
   ]
  },
  {
   "cell_type": "code",
   "execution_count": 26,
   "metadata": {
    "nbpresent": {
     "id": "8b4a8162-cb03-486a-9bb7-8747ef38f524"
    }
   },
   "outputs": [
    {
     "name": "stdout",
     "output_type": "stream",
     "text": [
      "Tests Passed\n"
     ]
    }
   ],
   "source": [
    "def train_neural_network(session, optimizer, keep_probability, feature_batch, label_batch):\n",
    "    \"\"\"\n",
    "    Optimize the session on a batch of images and labels\n",
    "    : session: Current TensorFlow session\n",
    "    : optimizer: TensorFlow optimizer function\n",
    "    : keep_probability: keep probability\n",
    "    : feature_batch: Batch of Numpy image data\n",
    "    : label_batch: Batch of Numpy label data\n",
    "    \"\"\"\n",
    "    # TODO: Implement Function\n",
    "    session.run(optimizer, feed_dict={\n",
    "                x: feature_batch,\n",
    "                y: label_batch,\n",
    "                keep_prob: keep_probability})\n",
    "    pass\n",
    "\n",
    "\n",
    "\"\"\"\n",
    "DON'T MODIFY ANYTHING IN THIS CELL THAT IS BELOW THIS LINE\n",
    "\"\"\"\n",
    "tests.test_train_nn(train_neural_network)"
   ]
  },
  {
   "cell_type": "markdown",
   "metadata": {
    "nbpresent": {
     "id": "a70ca7a8-430f-4899-ae26-1aa7014932d8"
    }
   },
   "source": [
    "### Show Stats\n",
    "Implement the function `print_stats` to print loss and validation accuracy.  Use the global variables `valid_features` and `valid_labels` to calculate validation accuracy.  Use a keep probability of `1.0` to calculate the loss and validation accuracy."
   ]
  },
  {
   "cell_type": "code",
   "execution_count": 27,
   "metadata": {
    "nbpresent": {
     "id": "58e710ef-59a2-4bbb-b9fc-02cb0b4148b9"
    }
   },
   "outputs": [],
   "source": [
    "def print_stats(session, feature_batch, label_batch, cost, accuracy):\n",
    "    \"\"\"\n",
    "    Print information about loss and validation accuracy\n",
    "    : session: Current TensorFlow session\n",
    "    : feature_batch: Batch of Numpy image data\n",
    "    : label_batch: Batch of Numpy label data\n",
    "    : cost: TensorFlow cost function\n",
    "    : accuracy: TensorFlow accuracy function\n",
    "    \"\"\"\n",
    "    # TODO: Implement Function\n",
    "    \n",
    "    loss = session.run(cost, feed_dict={\n",
    "                x: feature_batch,\n",
    "                y: label_batch,\n",
    "                keep_prob: 1.})\n",
    "    \n",
    "    valid_acc = session.run(accuracy, feed_dict={\n",
    "        x: valid_features,\n",
    "        y: valid_labels,\n",
    "        keep_prob: 1.})\n",
    "\n",
    "    print('Loss: {:>10.4f} Validation Accuracy: {:.6f}'.format(loss, valid_acc))\n",
    "    pass"
   ]
  },
  {
   "cell_type": "markdown",
   "metadata": {
    "nbpresent": {
     "id": "ccee0bb5-025d-4603-a3b0-1c99493478f9"
    }
   },
   "source": [
    "### Hyperparameters\n",
    "Tune the following parameters:\n",
    "* Set `epochs` to the number of iterations until the network stops learning or start overfitting\n",
    "* Set `batch_size` to the highest number that your machine has memory for.  Most people set them to common sizes of memory:\n",
    " * 64\n",
    " * 128\n",
    " * 256\n",
    " * ...\n",
    "* Set `keep_probability` to the probability of keeping a node using dropout"
   ]
  },
  {
   "cell_type": "code",
   "execution_count": 31,
   "metadata": {
    "nbpresent": {
     "id": "5fa9a99b-d47f-4dba-ab87-82068771365d"
    }
   },
   "outputs": [],
   "source": [
    "# TODO: Tune Parameters\n",
    "epochs = 100\n",
    "batch_size = 256\n",
    "keep_probability = 0.8"
   ]
  },
  {
   "cell_type": "markdown",
   "metadata": {
    "nbpresent": {
     "id": "c458bcd1-c398-43be-8d61-6ee9ded25a24"
    }
   },
   "source": [
    "### Train on a Single CIFAR-10 Batch\n",
    "Instead of training the neural network on all the CIFAR-10 batches of data, let's use a single batch. This should save time while you iterate on the model to get a better accuracy.  Once the final validation accuracy is 50% or greater, run the model on all the data in the next section."
   ]
  },
  {
   "cell_type": "code",
   "execution_count": 32,
   "metadata": {
    "nbpresent": {
     "id": "97df382b-be57-4ed2-b588-627a4600c261"
    },
    "scrolled": true
   },
   "outputs": [
    {
     "name": "stdout",
     "output_type": "stream",
     "text": [
      "Checking the Training on a Single Batch...\n",
      "Epoch  1, CIFAR-10 Batch 1:  Loss:     2.1874 Validation Accuracy: 0.174000\n",
      "Epoch  2, CIFAR-10 Batch 1:  Loss:     2.0271 Validation Accuracy: 0.272000\n",
      "Epoch  3, CIFAR-10 Batch 1:  Loss:     1.8838 Validation Accuracy: 0.333600\n",
      "Epoch  4, CIFAR-10 Batch 1:  Loss:     1.7365 Validation Accuracy: 0.379200\n",
      "Epoch  5, CIFAR-10 Batch 1:  Loss:     1.6049 Validation Accuracy: 0.380800\n",
      "Epoch  6, CIFAR-10 Batch 1:  Loss:     1.4595 Validation Accuracy: 0.402800\n",
      "Epoch  7, CIFAR-10 Batch 1:  Loss:     1.3799 Validation Accuracy: 0.439800\n",
      "Epoch  8, CIFAR-10 Batch 1:  Loss:     1.2840 Validation Accuracy: 0.437200\n",
      "Epoch  9, CIFAR-10 Batch 1:  Loss:     1.1930 Validation Accuracy: 0.449800\n",
      "Epoch 10, CIFAR-10 Batch 1:  Loss:     1.1255 Validation Accuracy: 0.446800\n",
      "Epoch 11, CIFAR-10 Batch 1:  Loss:     1.0119 Validation Accuracy: 0.457400\n",
      "Epoch 12, CIFAR-10 Batch 1:  Loss:     0.9448 Validation Accuracy: 0.482200\n",
      "Epoch 13, CIFAR-10 Batch 1:  Loss:     0.9572 Validation Accuracy: 0.457200\n",
      "Epoch 14, CIFAR-10 Batch 1:  Loss:     0.8918 Validation Accuracy: 0.468000\n",
      "Epoch 15, CIFAR-10 Batch 1:  Loss:     0.8746 Validation Accuracy: 0.494200\n",
      "Epoch 16, CIFAR-10 Batch 1:  Loss:     0.8869 Validation Accuracy: 0.496400\n",
      "Epoch 17, CIFAR-10 Batch 1:  Loss:     0.7906 Validation Accuracy: 0.500200\n",
      "Epoch 18, CIFAR-10 Batch 1:  Loss:     0.8291 Validation Accuracy: 0.490400\n",
      "Epoch 19, CIFAR-10 Batch 1:  Loss:     0.7895 Validation Accuracy: 0.506600\n",
      "Epoch 20, CIFAR-10 Batch 1:  Loss:     0.7431 Validation Accuracy: 0.505400\n",
      "Epoch 21, CIFAR-10 Batch 1:  Loss:     0.7696 Validation Accuracy: 0.494600\n",
      "Epoch 22, CIFAR-10 Batch 1:  Loss:     0.6661 Validation Accuracy: 0.518000\n",
      "Epoch 23, CIFAR-10 Batch 1:  Loss:     0.6780 Validation Accuracy: 0.490400\n",
      "Epoch 24, CIFAR-10 Batch 1:  Loss:     0.6857 Validation Accuracy: 0.522000\n",
      "Epoch 25, CIFAR-10 Batch 1:  Loss:     0.6705 Validation Accuracy: 0.512000\n",
      "Epoch 26, CIFAR-10 Batch 1:  Loss:     0.6562 Validation Accuracy: 0.517800\n",
      "Epoch 27, CIFAR-10 Batch 1:  Loss:     0.6660 Validation Accuracy: 0.501000\n",
      "Epoch 28, CIFAR-10 Batch 1:  Loss:     0.6136 Validation Accuracy: 0.517800\n",
      "Epoch 29, CIFAR-10 Batch 1:  Loss:     0.5974 Validation Accuracy: 0.511000\n",
      "Epoch 30, CIFAR-10 Batch 1:  Loss:     0.5700 Validation Accuracy: 0.509000\n",
      "Epoch 31, CIFAR-10 Batch 1:  Loss:     0.5717 Validation Accuracy: 0.497200\n",
      "Epoch 32, CIFAR-10 Batch 1:  Loss:     0.5430 Validation Accuracy: 0.517400\n",
      "Epoch 33, CIFAR-10 Batch 1:  Loss:     0.4869 Validation Accuracy: 0.533400\n",
      "Epoch 34, CIFAR-10 Batch 1:  Loss:     0.4737 Validation Accuracy: 0.522200\n",
      "Epoch 35, CIFAR-10 Batch 1:  Loss:     0.4229 Validation Accuracy: 0.521000\n",
      "Epoch 36, CIFAR-10 Batch 1:  Loss:     0.3837 Validation Accuracy: 0.527800\n",
      "Epoch 37, CIFAR-10 Batch 1:  Loss:     0.3804 Validation Accuracy: 0.526200\n",
      "Epoch 38, CIFAR-10 Batch 1:  Loss:     0.3965 Validation Accuracy: 0.529600\n",
      "Epoch 39, CIFAR-10 Batch 1:  Loss:     0.3807 Validation Accuracy: 0.524000\n",
      "Epoch 40, CIFAR-10 Batch 1:  Loss:     0.4157 Validation Accuracy: 0.508000\n",
      "Epoch 41, CIFAR-10 Batch 1:  Loss:     0.4006 Validation Accuracy: 0.527600\n",
      "Epoch 42, CIFAR-10 Batch 1:  Loss:     0.3793 Validation Accuracy: 0.522200\n",
      "Epoch 43, CIFAR-10 Batch 1:  Loss:     0.4093 Validation Accuracy: 0.516200\n",
      "Epoch 44, CIFAR-10 Batch 1:  Loss:     0.3875 Validation Accuracy: 0.540200\n",
      "Epoch 45, CIFAR-10 Batch 1:  Loss:     0.3744 Validation Accuracy: 0.531200\n",
      "Epoch 46, CIFAR-10 Batch 1:  Loss:     0.3407 Validation Accuracy: 0.541800\n",
      "Epoch 47, CIFAR-10 Batch 1:  Loss:     0.3192 Validation Accuracy: 0.541800\n",
      "Epoch 48, CIFAR-10 Batch 1:  Loss:     0.3101 Validation Accuracy: 0.540400\n",
      "Epoch 49, CIFAR-10 Batch 1:  Loss:     0.2870 Validation Accuracy: 0.541400\n",
      "Epoch 50, CIFAR-10 Batch 1:  Loss:     0.2788 Validation Accuracy: 0.539200\n",
      "Epoch 51, CIFAR-10 Batch 1:  Loss:     0.2745 Validation Accuracy: 0.536400\n",
      "Epoch 52, CIFAR-10 Batch 1:  Loss:     0.2908 Validation Accuracy: 0.536000\n",
      "Epoch 53, CIFAR-10 Batch 1:  Loss:     0.2640 Validation Accuracy: 0.537400\n",
      "Epoch 54, CIFAR-10 Batch 1:  Loss:     0.2703 Validation Accuracy: 0.538600\n",
      "Epoch 55, CIFAR-10 Batch 1:  Loss:     0.2512 Validation Accuracy: 0.537800\n",
      "Epoch 56, CIFAR-10 Batch 1:  Loss:     0.2511 Validation Accuracy: 0.534800\n",
      "Epoch 57, CIFAR-10 Batch 1:  Loss:     0.2724 Validation Accuracy: 0.528800\n",
      "Epoch 58, CIFAR-10 Batch 1:  Loss:     0.2641 Validation Accuracy: 0.523400\n",
      "Epoch 59, CIFAR-10 Batch 1:  Loss:     0.2716 Validation Accuracy: 0.519000\n",
      "Epoch 60, CIFAR-10 Batch 1:  Loss:     0.2593 Validation Accuracy: 0.527800\n",
      "Epoch 61, CIFAR-10 Batch 1:  Loss:     0.2611 Validation Accuracy: 0.522000\n",
      "Epoch 62, CIFAR-10 Batch 1:  Loss:     0.2369 Validation Accuracy: 0.528400\n",
      "Epoch 63, CIFAR-10 Batch 1:  Loss:     0.2393 Validation Accuracy: 0.521400\n",
      "Epoch 64, CIFAR-10 Batch 1:  Loss:     0.2369 Validation Accuracy: 0.522400\n",
      "Epoch 65, CIFAR-10 Batch 1:  Loss:     0.2463 Validation Accuracy: 0.527000\n",
      "Epoch 66, CIFAR-10 Batch 1:  Loss:     0.2669 Validation Accuracy: 0.510000\n",
      "Epoch 67, CIFAR-10 Batch 1:  Loss:     0.2811 Validation Accuracy: 0.508600\n",
      "Epoch 68, CIFAR-10 Batch 1:  Loss:     0.2786 Validation Accuracy: 0.506200\n",
      "Epoch 69, CIFAR-10 Batch 1:  Loss:     0.2541 Validation Accuracy: 0.514600\n",
      "Epoch 70, CIFAR-10 Batch 1:  Loss:     0.2276 Validation Accuracy: 0.522000\n",
      "Epoch 71, CIFAR-10 Batch 1:  Loss:     0.2170 Validation Accuracy: 0.521800\n",
      "Epoch 72, CIFAR-10 Batch 1:  Loss:     0.2169 Validation Accuracy: 0.535800\n",
      "Epoch 73, CIFAR-10 Batch 1:  Loss:     0.1983 Validation Accuracy: 0.528200\n",
      "Epoch 74, CIFAR-10 Batch 1:  Loss:     0.1993 Validation Accuracy: 0.533200\n",
      "Epoch 75, CIFAR-10 Batch 1:  Loss:     0.2000 Validation Accuracy: 0.521800\n",
      "Epoch 76, CIFAR-10 Batch 1:  Loss:     0.1955 Validation Accuracy: 0.533400\n",
      "Epoch 77, CIFAR-10 Batch 1:  Loss:     0.1925 Validation Accuracy: 0.532600\n",
      "Epoch 78, CIFAR-10 Batch 1:  Loss:     0.1923 Validation Accuracy: 0.531000\n",
      "Epoch 79, CIFAR-10 Batch 1:  Loss:     0.1856 Validation Accuracy: 0.527800\n",
      "Epoch 80, CIFAR-10 Batch 1:  Loss:     0.1853 Validation Accuracy: 0.515000\n",
      "Epoch 81, CIFAR-10 Batch 1:  Loss:     0.1848 Validation Accuracy: 0.515000\n",
      "Epoch 82, CIFAR-10 Batch 1:  Loss:     0.1775 Validation Accuracy: 0.511800\n",
      "Epoch 83, CIFAR-10 Batch 1:  Loss:     0.1928 Validation Accuracy: 0.518000\n",
      "Epoch 84, CIFAR-10 Batch 1:  Loss:     0.1917 Validation Accuracy: 0.517000\n",
      "Epoch 85, CIFAR-10 Batch 1:  Loss:     0.1864 Validation Accuracy: 0.513400\n",
      "Epoch 86, CIFAR-10 Batch 1:  Loss:     0.1877 Validation Accuracy: 0.503400\n",
      "Epoch 87, CIFAR-10 Batch 1:  Loss:     0.1807 Validation Accuracy: 0.511000\n",
      "Epoch 88, CIFAR-10 Batch 1:  Loss:     0.1816 Validation Accuracy: 0.510400\n",
      "Epoch 89, CIFAR-10 Batch 1:  Loss:     0.1653 Validation Accuracy: 0.508800\n",
      "Epoch 90, CIFAR-10 Batch 1:  Loss:     0.1631 Validation Accuracy: 0.512800\n",
      "Epoch 91, CIFAR-10 Batch 1:  Loss:     0.1516 Validation Accuracy: 0.525000\n",
      "Epoch 92, CIFAR-10 Batch 1:  Loss:     0.1433 Validation Accuracy: 0.518400\n",
      "Epoch 93, CIFAR-10 Batch 1:  Loss:     0.1497 Validation Accuracy: 0.528600\n",
      "Epoch 94, CIFAR-10 Batch 1:  Loss:     0.1510 Validation Accuracy: 0.521000\n",
      "Epoch 95, CIFAR-10 Batch 1:  Loss:     0.1427 Validation Accuracy: 0.521800\n",
      "Epoch 96, CIFAR-10 Batch 1:  Loss:     0.1395 Validation Accuracy: 0.525600\n",
      "Epoch 97, CIFAR-10 Batch 1:  Loss:     0.1387 Validation Accuracy: 0.525600\n",
      "Epoch 98, CIFAR-10 Batch 1:  Loss:     0.1195 Validation Accuracy: 0.533600\n",
      "Epoch 99, CIFAR-10 Batch 1:  Loss:     0.1214 Validation Accuracy: 0.532200\n",
      "Epoch 100, CIFAR-10 Batch 1:  Loss:     0.1226 Validation Accuracy: 0.526200\n"
     ]
    }
   ],
   "source": [
    "\"\"\"\n",
    "DON'T MODIFY ANYTHING IN THIS CELL\n",
    "\"\"\"\n",
    "print('Checking the Training on a Single Batch...')\n",
    "with tf.Session() as sess:\n",
    "    # Initializing the variables\n",
    "    sess.run(tf.global_variables_initializer())\n",
    "    \n",
    "    # Training cycle\n",
    "    for epoch in range(epochs):\n",
    "        batch_i = 1\n",
    "        for batch_features, batch_labels in helper.load_preprocess_training_batch(batch_i, batch_size):\n",
    "            train_neural_network(sess, optimizer, keep_probability, batch_features, batch_labels)\n",
    "        print('Epoch {:>2}, CIFAR-10 Batch {}:  '.format(epoch + 1, batch_i), end='')\n",
    "        print_stats(sess, batch_features, batch_labels, cost, accuracy)"
   ]
  },
  {
   "cell_type": "markdown",
   "metadata": {
    "nbpresent": {
     "id": "4fa2bb66-1e3d-47e2-8405-ed1311bc0ddf"
    }
   },
   "source": [
    "### Fully Train the Model\n",
    "Now that you got a good accuracy with a single CIFAR-10 batch, try it with all five batches."
   ]
  },
  {
   "cell_type": "code",
   "execution_count": 33,
   "metadata": {
    "nbpresent": {
     "id": "a644a104-13de-434a-a2dc-b01f93539eb4"
    }
   },
   "outputs": [
    {
     "name": "stdout",
     "output_type": "stream",
     "text": [
      "Training...\n",
      "Epoch  1, CIFAR-10 Batch 1:  Loss:     2.2589 Validation Accuracy: 0.156400\n",
      "Epoch  1, CIFAR-10 Batch 2:  Loss:     2.0977 Validation Accuracy: 0.191000\n",
      "Epoch  1, CIFAR-10 Batch 3:  Loss:     1.9319 Validation Accuracy: 0.211400\n",
      "Epoch  1, CIFAR-10 Batch 4:  Loss:     1.9424 Validation Accuracy: 0.216600\n",
      "Epoch  1, CIFAR-10 Batch 5:  Loss:     1.9935 Validation Accuracy: 0.225600\n",
      "Epoch  2, CIFAR-10 Batch 1:  Loss:     2.1180 Validation Accuracy: 0.235400\n",
      "Epoch  2, CIFAR-10 Batch 2:  Loss:     1.8068 Validation Accuracy: 0.231200\n",
      "Epoch  2, CIFAR-10 Batch 3:  Loss:     1.7141 Validation Accuracy: 0.246200\n",
      "Epoch  2, CIFAR-10 Batch 4:  Loss:     1.7763 Validation Accuracy: 0.240000\n",
      "Epoch  2, CIFAR-10 Batch 5:  Loss:     1.8539 Validation Accuracy: 0.257800\n",
      "Epoch  3, CIFAR-10 Batch 1:  Loss:     1.9849 Validation Accuracy: 0.270400\n",
      "Epoch  3, CIFAR-10 Batch 2:  Loss:     1.6714 Validation Accuracy: 0.298800\n",
      "Epoch  3, CIFAR-10 Batch 3:  Loss:     1.5474 Validation Accuracy: 0.298200\n",
      "Epoch  3, CIFAR-10 Batch 4:  Loss:     1.6660 Validation Accuracy: 0.344400\n",
      "Epoch  3, CIFAR-10 Batch 5:  Loss:     1.6079 Validation Accuracy: 0.363200\n",
      "Epoch  4, CIFAR-10 Batch 1:  Loss:     1.8256 Validation Accuracy: 0.374800\n",
      "Epoch  4, CIFAR-10 Batch 2:  Loss:     1.5253 Validation Accuracy: 0.373400\n",
      "Epoch  4, CIFAR-10 Batch 3:  Loss:     1.3790 Validation Accuracy: 0.349200\n",
      "Epoch  4, CIFAR-10 Batch 4:  Loss:     1.5935 Validation Accuracy: 0.372200\n",
      "Epoch  4, CIFAR-10 Batch 5:  Loss:     1.5691 Validation Accuracy: 0.386200\n",
      "Epoch  5, CIFAR-10 Batch 1:  Loss:     1.7223 Validation Accuracy: 0.387400\n",
      "Epoch  5, CIFAR-10 Batch 2:  Loss:     1.4364 Validation Accuracy: 0.379800\n",
      "Epoch  5, CIFAR-10 Batch 3:  Loss:     1.3840 Validation Accuracy: 0.376800\n",
      "Epoch  5, CIFAR-10 Batch 4:  Loss:     1.5577 Validation Accuracy: 0.388000\n",
      "Epoch  5, CIFAR-10 Batch 5:  Loss:     1.5343 Validation Accuracy: 0.391000\n",
      "Epoch  6, CIFAR-10 Batch 1:  Loss:     1.6256 Validation Accuracy: 0.409200\n",
      "Epoch  6, CIFAR-10 Batch 2:  Loss:     1.4108 Validation Accuracy: 0.376400\n",
      "Epoch  6, CIFAR-10 Batch 3:  Loss:     1.2747 Validation Accuracy: 0.396400\n",
      "Epoch  6, CIFAR-10 Batch 4:  Loss:     1.4199 Validation Accuracy: 0.429400\n",
      "Epoch  6, CIFAR-10 Batch 5:  Loss:     1.4450 Validation Accuracy: 0.428600\n",
      "Epoch  7, CIFAR-10 Batch 1:  Loss:     1.5366 Validation Accuracy: 0.438800\n",
      "Epoch  7, CIFAR-10 Batch 2:  Loss:     1.3408 Validation Accuracy: 0.429600\n",
      "Epoch  7, CIFAR-10 Batch 3:  Loss:     1.1734 Validation Accuracy: 0.425400\n",
      "Epoch  7, CIFAR-10 Batch 4:  Loss:     1.3442 Validation Accuracy: 0.428200\n",
      "Epoch  7, CIFAR-10 Batch 5:  Loss:     1.4102 Validation Accuracy: 0.427200\n",
      "Epoch  8, CIFAR-10 Batch 1:  Loss:     1.4933 Validation Accuracy: 0.437600\n",
      "Epoch  8, CIFAR-10 Batch 2:  Loss:     1.2475 Validation Accuracy: 0.462400\n",
      "Epoch  8, CIFAR-10 Batch 3:  Loss:     1.1556 Validation Accuracy: 0.427400\n",
      "Epoch  8, CIFAR-10 Batch 4:  Loss:     1.2877 Validation Accuracy: 0.471400\n",
      "Epoch  8, CIFAR-10 Batch 5:  Loss:     1.3539 Validation Accuracy: 0.461800\n",
      "Epoch  9, CIFAR-10 Batch 1:  Loss:     1.3315 Validation Accuracy: 0.475600\n",
      "Epoch  9, CIFAR-10 Batch 2:  Loss:     1.2378 Validation Accuracy: 0.451600\n",
      "Epoch  9, CIFAR-10 Batch 3:  Loss:     1.0608 Validation Accuracy: 0.456200\n",
      "Epoch  9, CIFAR-10 Batch 4:  Loss:     1.1924 Validation Accuracy: 0.493400\n",
      "Epoch  9, CIFAR-10 Batch 5:  Loss:     1.3138 Validation Accuracy: 0.455200\n",
      "Epoch 10, CIFAR-10 Batch 1:  Loss:     1.3071 Validation Accuracy: 0.486800\n",
      "Epoch 10, CIFAR-10 Batch 2:  Loss:     1.1892 Validation Accuracy: 0.495200\n",
      "Epoch 10, CIFAR-10 Batch 3:  Loss:     1.0051 Validation Accuracy: 0.486600\n",
      "Epoch 10, CIFAR-10 Batch 4:  Loss:     1.1369 Validation Accuracy: 0.503600\n",
      "Epoch 10, CIFAR-10 Batch 5:  Loss:     1.1802 Validation Accuracy: 0.503400\n",
      "Epoch 11, CIFAR-10 Batch 1:  Loss:     1.2504 Validation Accuracy: 0.504800\n",
      "Epoch 11, CIFAR-10 Batch 2:  Loss:     1.1466 Validation Accuracy: 0.514200\n",
      "Epoch 11, CIFAR-10 Batch 3:  Loss:     1.0064 Validation Accuracy: 0.511600\n",
      "Epoch 11, CIFAR-10 Batch 4:  Loss:     1.0514 Validation Accuracy: 0.511800\n",
      "Epoch 11, CIFAR-10 Batch 5:  Loss:     1.0952 Validation Accuracy: 0.516200\n",
      "Epoch 12, CIFAR-10 Batch 1:  Loss:     1.2219 Validation Accuracy: 0.501200\n",
      "Epoch 12, CIFAR-10 Batch 2:  Loss:     1.0611 Validation Accuracy: 0.522600\n",
      "Epoch 12, CIFAR-10 Batch 3:  Loss:     1.0096 Validation Accuracy: 0.511400\n",
      "Epoch 12, CIFAR-10 Batch 4:  Loss:     1.0329 Validation Accuracy: 0.513000\n",
      "Epoch 12, CIFAR-10 Batch 5:  Loss:     1.0803 Validation Accuracy: 0.520600\n",
      "Epoch 13, CIFAR-10 Batch 1:  Loss:     1.1362 Validation Accuracy: 0.523400\n",
      "Epoch 13, CIFAR-10 Batch 2:  Loss:     0.9890 Validation Accuracy: 0.523600\n",
      "Epoch 13, CIFAR-10 Batch 3:  Loss:     0.9138 Validation Accuracy: 0.518600\n",
      "Epoch 13, CIFAR-10 Batch 4:  Loss:     0.9967 Validation Accuracy: 0.523800\n",
      "Epoch 13, CIFAR-10 Batch 5:  Loss:     1.0689 Validation Accuracy: 0.514400\n",
      "Epoch 14, CIFAR-10 Batch 1:  Loss:     1.0878 Validation Accuracy: 0.534800\n",
      "Epoch 14, CIFAR-10 Batch 2:  Loss:     0.9262 Validation Accuracy: 0.537000\n",
      "Epoch 14, CIFAR-10 Batch 3:  Loss:     0.8812 Validation Accuracy: 0.529400\n",
      "Epoch 14, CIFAR-10 Batch 4:  Loss:     0.9421 Validation Accuracy: 0.535800\n",
      "Epoch 14, CIFAR-10 Batch 5:  Loss:     0.9809 Validation Accuracy: 0.538200\n",
      "Epoch 15, CIFAR-10 Batch 1:  Loss:     1.0711 Validation Accuracy: 0.540800\n",
      "Epoch 15, CIFAR-10 Batch 2:  Loss:     0.9253 Validation Accuracy: 0.547000\n",
      "Epoch 15, CIFAR-10 Batch 3:  Loss:     0.8373 Validation Accuracy: 0.545200\n",
      "Epoch 15, CIFAR-10 Batch 4:  Loss:     0.9193 Validation Accuracy: 0.545800\n",
      "Epoch 15, CIFAR-10 Batch 5:  Loss:     0.9631 Validation Accuracy: 0.552000\n",
      "Epoch 16, CIFAR-10 Batch 1:  Loss:     1.0077 Validation Accuracy: 0.528800\n",
      "Epoch 16, CIFAR-10 Batch 2:  Loss:     0.8423 Validation Accuracy: 0.554400\n",
      "Epoch 16, CIFAR-10 Batch 3:  Loss:     0.7698 Validation Accuracy: 0.551400\n",
      "Epoch 16, CIFAR-10 Batch 4:  Loss:     0.8861 Validation Accuracy: 0.537400\n",
      "Epoch 16, CIFAR-10 Batch 5:  Loss:     0.9225 Validation Accuracy: 0.548800\n",
      "Epoch 17, CIFAR-10 Batch 1:  Loss:     1.0002 Validation Accuracy: 0.541200\n",
      "Epoch 17, CIFAR-10 Batch 2:  Loss:     0.8210 Validation Accuracy: 0.552400\n",
      "Epoch 17, CIFAR-10 Batch 3:  Loss:     0.7031 Validation Accuracy: 0.554200\n",
      "Epoch 17, CIFAR-10 Batch 4:  Loss:     0.8655 Validation Accuracy: 0.561600\n",
      "Epoch 17, CIFAR-10 Batch 5:  Loss:     0.8936 Validation Accuracy: 0.555400\n",
      "Epoch 18, CIFAR-10 Batch 1:  Loss:     0.9280 Validation Accuracy: 0.546600\n",
      "Epoch 18, CIFAR-10 Batch 2:  Loss:     0.7643 Validation Accuracy: 0.555600\n",
      "Epoch 18, CIFAR-10 Batch 3:  Loss:     0.7019 Validation Accuracy: 0.556800\n",
      "Epoch 18, CIFAR-10 Batch 4:  Loss:     0.8661 Validation Accuracy: 0.560600\n",
      "Epoch 18, CIFAR-10 Batch 5:  Loss:     0.8490 Validation Accuracy: 0.560200\n",
      "Epoch 19, CIFAR-10 Batch 1:  Loss:     0.8986 Validation Accuracy: 0.552600\n",
      "Epoch 19, CIFAR-10 Batch 2:  Loss:     0.7568 Validation Accuracy: 0.558400\n",
      "Epoch 19, CIFAR-10 Batch 3:  Loss:     0.7029 Validation Accuracy: 0.558200\n",
      "Epoch 19, CIFAR-10 Batch 4:  Loss:     0.8161 Validation Accuracy: 0.567200\n",
      "Epoch 19, CIFAR-10 Batch 5:  Loss:     0.8053 Validation Accuracy: 0.561600\n",
      "Epoch 20, CIFAR-10 Batch 1:  Loss:     0.8540 Validation Accuracy: 0.555400\n",
      "Epoch 20, CIFAR-10 Batch 2:  Loss:     0.7031 Validation Accuracy: 0.561600\n",
      "Epoch 20, CIFAR-10 Batch 3:  Loss:     0.6326 Validation Accuracy: 0.556600\n",
      "Epoch 20, CIFAR-10 Batch 4:  Loss:     0.7938 Validation Accuracy: 0.556200\n",
      "Epoch 20, CIFAR-10 Batch 5:  Loss:     0.7815 Validation Accuracy: 0.570200\n",
      "Epoch 21, CIFAR-10 Batch 1:  Loss:     0.8317 Validation Accuracy: 0.562600\n",
      "Epoch 21, CIFAR-10 Batch 2:  Loss:     0.6852 Validation Accuracy: 0.568200\n",
      "Epoch 21, CIFAR-10 Batch 3:  Loss:     0.6139 Validation Accuracy: 0.565200\n",
      "Epoch 21, CIFAR-10 Batch 4:  Loss:     0.7306 Validation Accuracy: 0.570400\n",
      "Epoch 21, CIFAR-10 Batch 5:  Loss:     0.7174 Validation Accuracy: 0.571800\n",
      "Epoch 22, CIFAR-10 Batch 1:  Loss:     0.7827 Validation Accuracy: 0.560600\n",
      "Epoch 22, CIFAR-10 Batch 2:  Loss:     0.6556 Validation Accuracy: 0.569800\n",
      "Epoch 22, CIFAR-10 Batch 3:  Loss:     0.6032 Validation Accuracy: 0.571800\n"
     ]
    },
    {
     "name": "stdout",
     "output_type": "stream",
     "text": [
      "Epoch 22, CIFAR-10 Batch 4:  Loss:     0.7065 Validation Accuracy: 0.570600\n",
      "Epoch 22, CIFAR-10 Batch 5:  Loss:     0.6622 Validation Accuracy: 0.569200\n",
      "Epoch 23, CIFAR-10 Batch 1:  Loss:     0.7515 Validation Accuracy: 0.556400\n",
      "Epoch 23, CIFAR-10 Batch 2:  Loss:     0.6658 Validation Accuracy: 0.568400\n",
      "Epoch 23, CIFAR-10 Batch 3:  Loss:     0.5514 Validation Accuracy: 0.571600\n",
      "Epoch 23, CIFAR-10 Batch 4:  Loss:     0.7090 Validation Accuracy: 0.564800\n",
      "Epoch 23, CIFAR-10 Batch 5:  Loss:     0.6435 Validation Accuracy: 0.569600\n",
      "Epoch 24, CIFAR-10 Batch 1:  Loss:     0.7217 Validation Accuracy: 0.562000\n",
      "Epoch 24, CIFAR-10 Batch 2:  Loss:     0.6107 Validation Accuracy: 0.568600\n",
      "Epoch 24, CIFAR-10 Batch 3:  Loss:     0.5509 Validation Accuracy: 0.566200\n",
      "Epoch 24, CIFAR-10 Batch 4:  Loss:     0.6922 Validation Accuracy: 0.572800\n",
      "Epoch 24, CIFAR-10 Batch 5:  Loss:     0.6417 Validation Accuracy: 0.576000\n",
      "Epoch 25, CIFAR-10 Batch 1:  Loss:     0.7091 Validation Accuracy: 0.573600\n",
      "Epoch 25, CIFAR-10 Batch 2:  Loss:     0.6188 Validation Accuracy: 0.574400\n",
      "Epoch 25, CIFAR-10 Batch 3:  Loss:     0.5645 Validation Accuracy: 0.563200\n",
      "Epoch 25, CIFAR-10 Batch 4:  Loss:     0.6524 Validation Accuracy: 0.575000\n",
      "Epoch 25, CIFAR-10 Batch 5:  Loss:     0.6042 Validation Accuracy: 0.573200\n",
      "Epoch 26, CIFAR-10 Batch 1:  Loss:     0.7208 Validation Accuracy: 0.574000\n",
      "Epoch 26, CIFAR-10 Batch 2:  Loss:     0.6170 Validation Accuracy: 0.573200\n",
      "Epoch 26, CIFAR-10 Batch 3:  Loss:     0.5125 Validation Accuracy: 0.574000\n",
      "Epoch 26, CIFAR-10 Batch 4:  Loss:     0.6450 Validation Accuracy: 0.577600\n",
      "Epoch 26, CIFAR-10 Batch 5:  Loss:     0.6254 Validation Accuracy: 0.581000\n",
      "Epoch 27, CIFAR-10 Batch 1:  Loss:     0.6903 Validation Accuracy: 0.564400\n",
      "Epoch 27, CIFAR-10 Batch 2:  Loss:     0.5960 Validation Accuracy: 0.575200\n",
      "Epoch 27, CIFAR-10 Batch 3:  Loss:     0.5052 Validation Accuracy: 0.573400\n",
      "Epoch 27, CIFAR-10 Batch 4:  Loss:     0.6511 Validation Accuracy: 0.571600\n",
      "Epoch 27, CIFAR-10 Batch 5:  Loss:     0.5823 Validation Accuracy: 0.581400\n",
      "Epoch 28, CIFAR-10 Batch 1:  Loss:     0.6414 Validation Accuracy: 0.569800\n",
      "Epoch 28, CIFAR-10 Batch 2:  Loss:     0.5740 Validation Accuracy: 0.580000\n",
      "Epoch 28, CIFAR-10 Batch 3:  Loss:     0.4531 Validation Accuracy: 0.573400\n",
      "Epoch 28, CIFAR-10 Batch 4:  Loss:     0.6152 Validation Accuracy: 0.568800\n",
      "Epoch 28, CIFAR-10 Batch 5:  Loss:     0.5392 Validation Accuracy: 0.586400\n",
      "Epoch 29, CIFAR-10 Batch 1:  Loss:     0.6362 Validation Accuracy: 0.569800\n",
      "Epoch 29, CIFAR-10 Batch 2:  Loss:     0.5723 Validation Accuracy: 0.568200\n",
      "Epoch 29, CIFAR-10 Batch 3:  Loss:     0.4570 Validation Accuracy: 0.577000\n",
      "Epoch 29, CIFAR-10 Batch 4:  Loss:     0.5994 Validation Accuracy: 0.576000\n",
      "Epoch 29, CIFAR-10 Batch 5:  Loss:     0.5369 Validation Accuracy: 0.580600\n",
      "Epoch 30, CIFAR-10 Batch 1:  Loss:     0.6444 Validation Accuracy: 0.568600\n",
      "Epoch 30, CIFAR-10 Batch 2:  Loss:     0.5447 Validation Accuracy: 0.576800\n",
      "Epoch 30, CIFAR-10 Batch 3:  Loss:     0.4644 Validation Accuracy: 0.570800\n",
      "Epoch 30, CIFAR-10 Batch 4:  Loss:     0.5633 Validation Accuracy: 0.577800\n",
      "Epoch 30, CIFAR-10 Batch 5:  Loss:     0.5148 Validation Accuracy: 0.588200\n",
      "Epoch 31, CIFAR-10 Batch 1:  Loss:     0.6213 Validation Accuracy: 0.571600\n",
      "Epoch 31, CIFAR-10 Batch 2:  Loss:     0.5316 Validation Accuracy: 0.570000\n",
      "Epoch 31, CIFAR-10 Batch 3:  Loss:     0.4514 Validation Accuracy: 0.551400\n",
      "Epoch 31, CIFAR-10 Batch 4:  Loss:     0.6096 Validation Accuracy: 0.575600\n",
      "Epoch 31, CIFAR-10 Batch 5:  Loss:     0.5047 Validation Accuracy: 0.584600\n",
      "Epoch 32, CIFAR-10 Batch 1:  Loss:     0.6204 Validation Accuracy: 0.581200\n",
      "Epoch 32, CIFAR-10 Batch 2:  Loss:     0.5444 Validation Accuracy: 0.565600\n",
      "Epoch 32, CIFAR-10 Batch 3:  Loss:     0.4400 Validation Accuracy: 0.557000\n",
      "Epoch 32, CIFAR-10 Batch 4:  Loss:     0.5849 Validation Accuracy: 0.582400\n",
      "Epoch 32, CIFAR-10 Batch 5:  Loss:     0.5255 Validation Accuracy: 0.583200\n",
      "Epoch 33, CIFAR-10 Batch 1:  Loss:     0.5988 Validation Accuracy: 0.581200\n",
      "Epoch 33, CIFAR-10 Batch 2:  Loss:     0.5401 Validation Accuracy: 0.564000\n",
      "Epoch 33, CIFAR-10 Batch 3:  Loss:     0.4350 Validation Accuracy: 0.567200\n",
      "Epoch 33, CIFAR-10 Batch 4:  Loss:     0.5881 Validation Accuracy: 0.574200\n",
      "Epoch 33, CIFAR-10 Batch 5:  Loss:     0.4839 Validation Accuracy: 0.584200\n",
      "Epoch 34, CIFAR-10 Batch 1:  Loss:     0.5765 Validation Accuracy: 0.572000\n",
      "Epoch 34, CIFAR-10 Batch 2:  Loss:     0.5186 Validation Accuracy: 0.567600\n",
      "Epoch 34, CIFAR-10 Batch 3:  Loss:     0.4066 Validation Accuracy: 0.570400\n",
      "Epoch 34, CIFAR-10 Batch 4:  Loss:     0.5774 Validation Accuracy: 0.579000\n",
      "Epoch 34, CIFAR-10 Batch 5:  Loss:     0.4717 Validation Accuracy: 0.580600\n",
      "Epoch 35, CIFAR-10 Batch 1:  Loss:     0.5637 Validation Accuracy: 0.574400\n",
      "Epoch 35, CIFAR-10 Batch 2:  Loss:     0.5028 Validation Accuracy: 0.564800\n",
      "Epoch 35, CIFAR-10 Batch 3:  Loss:     0.4090 Validation Accuracy: 0.567000\n",
      "Epoch 35, CIFAR-10 Batch 4:  Loss:     0.5297 Validation Accuracy: 0.588600\n",
      "Epoch 35, CIFAR-10 Batch 5:  Loss:     0.4762 Validation Accuracy: 0.582800\n",
      "Epoch 36, CIFAR-10 Batch 1:  Loss:     0.4818 Validation Accuracy: 0.588400\n",
      "Epoch 36, CIFAR-10 Batch 2:  Loss:     0.4951 Validation Accuracy: 0.566000\n",
      "Epoch 36, CIFAR-10 Batch 3:  Loss:     0.3987 Validation Accuracy: 0.575600\n",
      "Epoch 36, CIFAR-10 Batch 4:  Loss:     0.5016 Validation Accuracy: 0.590400\n",
      "Epoch 36, CIFAR-10 Batch 5:  Loss:     0.4361 Validation Accuracy: 0.588000\n",
      "Epoch 37, CIFAR-10 Batch 1:  Loss:     0.4615 Validation Accuracy: 0.589400\n",
      "Epoch 37, CIFAR-10 Batch 2:  Loss:     0.4479 Validation Accuracy: 0.572000\n",
      "Epoch 37, CIFAR-10 Batch 3:  Loss:     0.4055 Validation Accuracy: 0.576800\n",
      "Epoch 37, CIFAR-10 Batch 4:  Loss:     0.5041 Validation Accuracy: 0.585800\n",
      "Epoch 37, CIFAR-10 Batch 5:  Loss:     0.4237 Validation Accuracy: 0.590200\n",
      "Epoch 38, CIFAR-10 Batch 1:  Loss:     0.4314 Validation Accuracy: 0.587000\n",
      "Epoch 38, CIFAR-10 Batch 2:  Loss:     0.4544 Validation Accuracy: 0.570400\n",
      "Epoch 38, CIFAR-10 Batch 3:  Loss:     0.3876 Validation Accuracy: 0.573600\n",
      "Epoch 38, CIFAR-10 Batch 4:  Loss:     0.4344 Validation Accuracy: 0.598200\n",
      "Epoch 38, CIFAR-10 Batch 5:  Loss:     0.4078 Validation Accuracy: 0.599000\n",
      "Epoch 39, CIFAR-10 Batch 1:  Loss:     0.4203 Validation Accuracy: 0.589200\n",
      "Epoch 39, CIFAR-10 Batch 2:  Loss:     0.4003 Validation Accuracy: 0.575600\n",
      "Epoch 39, CIFAR-10 Batch 3:  Loss:     0.3753 Validation Accuracy: 0.585400\n",
      "Epoch 39, CIFAR-10 Batch 4:  Loss:     0.3829 Validation Accuracy: 0.597800\n",
      "Epoch 39, CIFAR-10 Batch 5:  Loss:     0.3548 Validation Accuracy: 0.596600\n",
      "Epoch 40, CIFAR-10 Batch 1:  Loss:     0.4051 Validation Accuracy: 0.591000\n",
      "Epoch 40, CIFAR-10 Batch 2:  Loss:     0.3575 Validation Accuracy: 0.584000\n",
      "Epoch 40, CIFAR-10 Batch 3:  Loss:     0.3370 Validation Accuracy: 0.595600\n",
      "Epoch 40, CIFAR-10 Batch 4:  Loss:     0.3647 Validation Accuracy: 0.601000\n",
      "Epoch 40, CIFAR-10 Batch 5:  Loss:     0.3253 Validation Accuracy: 0.597600\n",
      "Epoch 41, CIFAR-10 Batch 1:  Loss:     0.3712 Validation Accuracy: 0.586200\n",
      "Epoch 41, CIFAR-10 Batch 2:  Loss:     0.3188 Validation Accuracy: 0.596400\n",
      "Epoch 41, CIFAR-10 Batch 3:  Loss:     0.3858 Validation Accuracy: 0.586400\n",
      "Epoch 41, CIFAR-10 Batch 4:  Loss:     0.3369 Validation Accuracy: 0.601200\n",
      "Epoch 41, CIFAR-10 Batch 5:  Loss:     0.3439 Validation Accuracy: 0.599200\n",
      "Epoch 42, CIFAR-10 Batch 1:  Loss:     0.3683 Validation Accuracy: 0.597400\n",
      "Epoch 42, CIFAR-10 Batch 2:  Loss:     0.3169 Validation Accuracy: 0.597200\n",
      "Epoch 42, CIFAR-10 Batch 3:  Loss:     0.3308 Validation Accuracy: 0.588800\n",
      "Epoch 42, CIFAR-10 Batch 4:  Loss:     0.3219 Validation Accuracy: 0.599000\n",
      "Epoch 42, CIFAR-10 Batch 5:  Loss:     0.3337 Validation Accuracy: 0.600200\n",
      "Epoch 43, CIFAR-10 Batch 1:  Loss:     0.3402 Validation Accuracy: 0.598400\n",
      "Epoch 43, CIFAR-10 Batch 2:  Loss:     0.3215 Validation Accuracy: 0.585400\n",
      "Epoch 43, CIFAR-10 Batch 3:  Loss:     0.3098 Validation Accuracy: 0.599400\n",
      "Epoch 43, CIFAR-10 Batch 4:  Loss:     0.3014 Validation Accuracy: 0.600400\n",
      "Epoch 43, CIFAR-10 Batch 5:  Loss:     0.3482 Validation Accuracy: 0.597600\n",
      "Epoch 44, CIFAR-10 Batch 1:  Loss:     0.3123 Validation Accuracy: 0.605400\n"
     ]
    },
    {
     "name": "stdout",
     "output_type": "stream",
     "text": [
      "Epoch 44, CIFAR-10 Batch 2:  Loss:     0.2783 Validation Accuracy: 0.597000\n",
      "Epoch 44, CIFAR-10 Batch 3:  Loss:     0.3188 Validation Accuracy: 0.590400\n",
      "Epoch 44, CIFAR-10 Batch 4:  Loss:     0.2795 Validation Accuracy: 0.605200\n",
      "Epoch 44, CIFAR-10 Batch 5:  Loss:     0.3218 Validation Accuracy: 0.586800\n",
      "Epoch 45, CIFAR-10 Batch 1:  Loss:     0.3007 Validation Accuracy: 0.598200\n",
      "Epoch 45, CIFAR-10 Batch 2:  Loss:     0.2586 Validation Accuracy: 0.589800\n",
      "Epoch 45, CIFAR-10 Batch 3:  Loss:     0.2818 Validation Accuracy: 0.603400\n",
      "Epoch 45, CIFAR-10 Batch 4:  Loss:     0.2293 Validation Accuracy: 0.612400\n",
      "Epoch 45, CIFAR-10 Batch 5:  Loss:     0.2819 Validation Accuracy: 0.594400\n",
      "Epoch 46, CIFAR-10 Batch 1:  Loss:     0.2987 Validation Accuracy: 0.610400\n",
      "Epoch 46, CIFAR-10 Batch 2:  Loss:     0.2423 Validation Accuracy: 0.593800\n",
      "Epoch 46, CIFAR-10 Batch 3:  Loss:     0.2562 Validation Accuracy: 0.605200\n",
      "Epoch 46, CIFAR-10 Batch 4:  Loss:     0.2257 Validation Accuracy: 0.613000\n",
      "Epoch 46, CIFAR-10 Batch 5:  Loss:     0.2933 Validation Accuracy: 0.598400\n",
      "Epoch 47, CIFAR-10 Batch 1:  Loss:     0.2921 Validation Accuracy: 0.598000\n",
      "Epoch 47, CIFAR-10 Batch 2:  Loss:     0.2557 Validation Accuracy: 0.597800\n",
      "Epoch 47, CIFAR-10 Batch 3:  Loss:     0.2432 Validation Accuracy: 0.603000\n",
      "Epoch 47, CIFAR-10 Batch 4:  Loss:     0.2145 Validation Accuracy: 0.615600\n",
      "Epoch 47, CIFAR-10 Batch 5:  Loss:     0.2768 Validation Accuracy: 0.602200\n",
      "Epoch 48, CIFAR-10 Batch 1:  Loss:     0.2698 Validation Accuracy: 0.608000\n",
      "Epoch 48, CIFAR-10 Batch 2:  Loss:     0.2517 Validation Accuracy: 0.590400\n",
      "Epoch 48, CIFAR-10 Batch 3:  Loss:     0.2046 Validation Accuracy: 0.607000\n",
      "Epoch 48, CIFAR-10 Batch 4:  Loss:     0.2011 Validation Accuracy: 0.610800\n",
      "Epoch 48, CIFAR-10 Batch 5:  Loss:     0.2479 Validation Accuracy: 0.602600\n",
      "Epoch 49, CIFAR-10 Batch 1:  Loss:     0.2493 Validation Accuracy: 0.604400\n",
      "Epoch 49, CIFAR-10 Batch 2:  Loss:     0.2372 Validation Accuracy: 0.591600\n",
      "Epoch 49, CIFAR-10 Batch 3:  Loss:     0.2107 Validation Accuracy: 0.603400\n",
      "Epoch 49, CIFAR-10 Batch 4:  Loss:     0.1856 Validation Accuracy: 0.612200\n",
      "Epoch 49, CIFAR-10 Batch 5:  Loss:     0.2542 Validation Accuracy: 0.593000\n",
      "Epoch 50, CIFAR-10 Batch 1:  Loss:     0.2458 Validation Accuracy: 0.606400\n",
      "Epoch 50, CIFAR-10 Batch 2:  Loss:     0.2065 Validation Accuracy: 0.600000\n",
      "Epoch 50, CIFAR-10 Batch 3:  Loss:     0.2116 Validation Accuracy: 0.608800\n",
      "Epoch 50, CIFAR-10 Batch 4:  Loss:     0.1695 Validation Accuracy: 0.608200\n",
      "Epoch 50, CIFAR-10 Batch 5:  Loss:     0.2248 Validation Accuracy: 0.608600\n",
      "Epoch 51, CIFAR-10 Batch 1:  Loss:     0.2512 Validation Accuracy: 0.602200\n",
      "Epoch 51, CIFAR-10 Batch 2:  Loss:     0.2049 Validation Accuracy: 0.596200\n",
      "Epoch 51, CIFAR-10 Batch 3:  Loss:     0.2211 Validation Accuracy: 0.608000\n",
      "Epoch 51, CIFAR-10 Batch 4:  Loss:     0.1750 Validation Accuracy: 0.606400\n",
      "Epoch 51, CIFAR-10 Batch 5:  Loss:     0.2144 Validation Accuracy: 0.598800\n",
      "Epoch 52, CIFAR-10 Batch 1:  Loss:     0.2339 Validation Accuracy: 0.590200\n",
      "Epoch 52, CIFAR-10 Batch 2:  Loss:     0.1961 Validation Accuracy: 0.592600\n",
      "Epoch 52, CIFAR-10 Batch 3:  Loss:     0.1979 Validation Accuracy: 0.601800\n",
      "Epoch 52, CIFAR-10 Batch 4:  Loss:     0.1646 Validation Accuracy: 0.612000\n",
      "Epoch 52, CIFAR-10 Batch 5:  Loss:     0.2480 Validation Accuracy: 0.602800\n",
      "Epoch 53, CIFAR-10 Batch 1:  Loss:     0.2445 Validation Accuracy: 0.598600\n",
      "Epoch 53, CIFAR-10 Batch 2:  Loss:     0.2177 Validation Accuracy: 0.575400\n",
      "Epoch 53, CIFAR-10 Batch 3:  Loss:     0.2007 Validation Accuracy: 0.605600\n",
      "Epoch 53, CIFAR-10 Batch 4:  Loss:     0.1589 Validation Accuracy: 0.615000\n",
      "Epoch 53, CIFAR-10 Batch 5:  Loss:     0.2003 Validation Accuracy: 0.610200\n",
      "Epoch 54, CIFAR-10 Batch 1:  Loss:     0.2185 Validation Accuracy: 0.603600\n",
      "Epoch 54, CIFAR-10 Batch 2:  Loss:     0.1750 Validation Accuracy: 0.589000\n",
      "Epoch 54, CIFAR-10 Batch 3:  Loss:     0.1990 Validation Accuracy: 0.602200\n",
      "Epoch 54, CIFAR-10 Batch 4:  Loss:     0.1736 Validation Accuracy: 0.613800\n",
      "Epoch 54, CIFAR-10 Batch 5:  Loss:     0.1963 Validation Accuracy: 0.604600\n",
      "Epoch 55, CIFAR-10 Batch 1:  Loss:     0.2038 Validation Accuracy: 0.598400\n",
      "Epoch 55, CIFAR-10 Batch 2:  Loss:     0.1832 Validation Accuracy: 0.583600\n",
      "Epoch 55, CIFAR-10 Batch 3:  Loss:     0.1753 Validation Accuracy: 0.603000\n",
      "Epoch 55, CIFAR-10 Batch 4:  Loss:     0.1588 Validation Accuracy: 0.610000\n",
      "Epoch 55, CIFAR-10 Batch 5:  Loss:     0.1965 Validation Accuracy: 0.607200\n",
      "Epoch 56, CIFAR-10 Batch 1:  Loss:     0.1891 Validation Accuracy: 0.598800\n",
      "Epoch 56, CIFAR-10 Batch 2:  Loss:     0.1785 Validation Accuracy: 0.591600\n",
      "Epoch 56, CIFAR-10 Batch 3:  Loss:     0.1540 Validation Accuracy: 0.599600\n",
      "Epoch 56, CIFAR-10 Batch 4:  Loss:     0.1828 Validation Accuracy: 0.600000\n",
      "Epoch 56, CIFAR-10 Batch 5:  Loss:     0.1933 Validation Accuracy: 0.619800\n",
      "Epoch 57, CIFAR-10 Batch 1:  Loss:     0.1895 Validation Accuracy: 0.597400\n",
      "Epoch 57, CIFAR-10 Batch 2:  Loss:     0.1800 Validation Accuracy: 0.591400\n",
      "Epoch 57, CIFAR-10 Batch 3:  Loss:     0.1692 Validation Accuracy: 0.597200\n",
      "Epoch 57, CIFAR-10 Batch 4:  Loss:     0.1531 Validation Accuracy: 0.605200\n",
      "Epoch 57, CIFAR-10 Batch 5:  Loss:     0.1834 Validation Accuracy: 0.616000\n",
      "Epoch 58, CIFAR-10 Batch 1:  Loss:     0.1787 Validation Accuracy: 0.598200\n",
      "Epoch 58, CIFAR-10 Batch 2:  Loss:     0.1598 Validation Accuracy: 0.599200\n",
      "Epoch 58, CIFAR-10 Batch 3:  Loss:     0.1544 Validation Accuracy: 0.587600\n",
      "Epoch 58, CIFAR-10 Batch 4:  Loss:     0.1578 Validation Accuracy: 0.600800\n",
      "Epoch 58, CIFAR-10 Batch 5:  Loss:     0.1754 Validation Accuracy: 0.614600\n",
      "Epoch 59, CIFAR-10 Batch 1:  Loss:     0.1797 Validation Accuracy: 0.601800\n",
      "Epoch 59, CIFAR-10 Batch 2:  Loss:     0.1705 Validation Accuracy: 0.600200\n",
      "Epoch 59, CIFAR-10 Batch 3:  Loss:     0.1616 Validation Accuracy: 0.580000\n",
      "Epoch 59, CIFAR-10 Batch 4:  Loss:     0.1671 Validation Accuracy: 0.594400\n",
      "Epoch 59, CIFAR-10 Batch 5:  Loss:     0.1809 Validation Accuracy: 0.611000\n",
      "Epoch 60, CIFAR-10 Batch 1:  Loss:     0.1753 Validation Accuracy: 0.601200\n",
      "Epoch 60, CIFAR-10 Batch 2:  Loss:     0.1669 Validation Accuracy: 0.598200\n",
      "Epoch 60, CIFAR-10 Batch 3:  Loss:     0.1666 Validation Accuracy: 0.589600\n",
      "Epoch 60, CIFAR-10 Batch 4:  Loss:     0.1508 Validation Accuracy: 0.604800\n",
      "Epoch 60, CIFAR-10 Batch 5:  Loss:     0.1754 Validation Accuracy: 0.605800\n",
      "Epoch 61, CIFAR-10 Batch 1:  Loss:     0.1814 Validation Accuracy: 0.589200\n",
      "Epoch 61, CIFAR-10 Batch 2:  Loss:     0.2145 Validation Accuracy: 0.583800\n",
      "Epoch 61, CIFAR-10 Batch 3:  Loss:     0.1159 Validation Accuracy: 0.601400\n",
      "Epoch 61, CIFAR-10 Batch 4:  Loss:     0.1563 Validation Accuracy: 0.599200\n",
      "Epoch 61, CIFAR-10 Batch 5:  Loss:     0.1778 Validation Accuracy: 0.607000\n",
      "Epoch 62, CIFAR-10 Batch 1:  Loss:     0.1652 Validation Accuracy: 0.590200\n",
      "Epoch 62, CIFAR-10 Batch 2:  Loss:     0.1624 Validation Accuracy: 0.592800\n",
      "Epoch 62, CIFAR-10 Batch 3:  Loss:     0.1273 Validation Accuracy: 0.598600\n",
      "Epoch 62, CIFAR-10 Batch 4:  Loss:     0.1500 Validation Accuracy: 0.597800\n",
      "Epoch 62, CIFAR-10 Batch 5:  Loss:     0.1388 Validation Accuracy: 0.609400\n",
      "Epoch 63, CIFAR-10 Batch 1:  Loss:     0.1450 Validation Accuracy: 0.600200\n",
      "Epoch 63, CIFAR-10 Batch 2:  Loss:     0.1732 Validation Accuracy: 0.586800\n",
      "Epoch 63, CIFAR-10 Batch 3:  Loss:     0.1103 Validation Accuracy: 0.594400\n",
      "Epoch 63, CIFAR-10 Batch 4:  Loss:     0.1427 Validation Accuracy: 0.593000\n",
      "Epoch 63, CIFAR-10 Batch 5:  Loss:     0.1624 Validation Accuracy: 0.609200\n",
      "Epoch 64, CIFAR-10 Batch 1:  Loss:     0.1567 Validation Accuracy: 0.598200\n",
      "Epoch 64, CIFAR-10 Batch 2:  Loss:     0.1411 Validation Accuracy: 0.595200\n",
      "Epoch 64, CIFAR-10 Batch 3:  Loss:     0.1000 Validation Accuracy: 0.608600\n",
      "Epoch 64, CIFAR-10 Batch 4:  Loss:     0.1475 Validation Accuracy: 0.596000\n",
      "Epoch 64, CIFAR-10 Batch 5:  Loss:     0.1148 Validation Accuracy: 0.618200\n",
      "Epoch 65, CIFAR-10 Batch 1:  Loss:     0.1340 Validation Accuracy: 0.605600\n",
      "Epoch 65, CIFAR-10 Batch 2:  Loss:     0.1402 Validation Accuracy: 0.588000\n",
      "Epoch 65, CIFAR-10 Batch 3:  Loss:     0.1037 Validation Accuracy: 0.601400\n",
      "Epoch 65, CIFAR-10 Batch 4:  Loss:     0.1359 Validation Accuracy: 0.596200\n"
     ]
    },
    {
     "name": "stdout",
     "output_type": "stream",
     "text": [
      "Epoch 65, CIFAR-10 Batch 5:  Loss:     0.1293 Validation Accuracy: 0.610200\n",
      "Epoch 66, CIFAR-10 Batch 1:  Loss:     0.1261 Validation Accuracy: 0.603600\n",
      "Epoch 66, CIFAR-10 Batch 2:  Loss:     0.1471 Validation Accuracy: 0.586200\n",
      "Epoch 66, CIFAR-10 Batch 3:  Loss:     0.0873 Validation Accuracy: 0.609000\n",
      "Epoch 66, CIFAR-10 Batch 4:  Loss:     0.1467 Validation Accuracy: 0.578000\n",
      "Epoch 66, CIFAR-10 Batch 5:  Loss:     0.1237 Validation Accuracy: 0.613600\n",
      "Epoch 67, CIFAR-10 Batch 1:  Loss:     0.1421 Validation Accuracy: 0.603000\n",
      "Epoch 67, CIFAR-10 Batch 2:  Loss:     0.1629 Validation Accuracy: 0.577000\n",
      "Epoch 67, CIFAR-10 Batch 3:  Loss:     0.0823 Validation Accuracy: 0.609400\n",
      "Epoch 67, CIFAR-10 Batch 4:  Loss:     0.1271 Validation Accuracy: 0.595000\n",
      "Epoch 67, CIFAR-10 Batch 5:  Loss:     0.1088 Validation Accuracy: 0.611000\n",
      "Epoch 68, CIFAR-10 Batch 1:  Loss:     0.1158 Validation Accuracy: 0.607000\n",
      "Epoch 68, CIFAR-10 Batch 2:  Loss:     0.1458 Validation Accuracy: 0.585000\n",
      "Epoch 68, CIFAR-10 Batch 3:  Loss:     0.0808 Validation Accuracy: 0.611400\n",
      "Epoch 68, CIFAR-10 Batch 4:  Loss:     0.1363 Validation Accuracy: 0.576800\n",
      "Epoch 68, CIFAR-10 Batch 5:  Loss:     0.1183 Validation Accuracy: 0.611800\n",
      "Epoch 69, CIFAR-10 Batch 1:  Loss:     0.1283 Validation Accuracy: 0.603200\n",
      "Epoch 69, CIFAR-10 Batch 2:  Loss:     0.1384 Validation Accuracy: 0.592200\n",
      "Epoch 69, CIFAR-10 Batch 3:  Loss:     0.0830 Validation Accuracy: 0.606400\n",
      "Epoch 69, CIFAR-10 Batch 4:  Loss:     0.1534 Validation Accuracy: 0.566600\n",
      "Epoch 69, CIFAR-10 Batch 5:  Loss:     0.1044 Validation Accuracy: 0.611600\n",
      "Epoch 70, CIFAR-10 Batch 1:  Loss:     0.1282 Validation Accuracy: 0.605600\n",
      "Epoch 70, CIFAR-10 Batch 2:  Loss:     0.1570 Validation Accuracy: 0.582800\n",
      "Epoch 70, CIFAR-10 Batch 3:  Loss:     0.0851 Validation Accuracy: 0.612600\n",
      "Epoch 70, CIFAR-10 Batch 4:  Loss:     0.1337 Validation Accuracy: 0.573800\n",
      "Epoch 70, CIFAR-10 Batch 5:  Loss:     0.1034 Validation Accuracy: 0.613000\n",
      "Epoch 71, CIFAR-10 Batch 1:  Loss:     0.1262 Validation Accuracy: 0.613800\n",
      "Epoch 71, CIFAR-10 Batch 2:  Loss:     0.1280 Validation Accuracy: 0.578800\n",
      "Epoch 71, CIFAR-10 Batch 3:  Loss:     0.0837 Validation Accuracy: 0.609400\n",
      "Epoch 71, CIFAR-10 Batch 4:  Loss:     0.1282 Validation Accuracy: 0.580200\n",
      "Epoch 71, CIFAR-10 Batch 5:  Loss:     0.1043 Validation Accuracy: 0.615800\n",
      "Epoch 72, CIFAR-10 Batch 1:  Loss:     0.1333 Validation Accuracy: 0.607400\n",
      "Epoch 72, CIFAR-10 Batch 2:  Loss:     0.1202 Validation Accuracy: 0.587400\n",
      "Epoch 72, CIFAR-10 Batch 3:  Loss:     0.0808 Validation Accuracy: 0.606600\n",
      "Epoch 72, CIFAR-10 Batch 4:  Loss:     0.0996 Validation Accuracy: 0.581600\n",
      "Epoch 72, CIFAR-10 Batch 5:  Loss:     0.1087 Validation Accuracy: 0.605200\n",
      "Epoch 73, CIFAR-10 Batch 1:  Loss:     0.1229 Validation Accuracy: 0.610000\n",
      "Epoch 73, CIFAR-10 Batch 2:  Loss:     0.0897 Validation Accuracy: 0.592000\n",
      "Epoch 73, CIFAR-10 Batch 3:  Loss:     0.0980 Validation Accuracy: 0.602400\n",
      "Epoch 73, CIFAR-10 Batch 4:  Loss:     0.0990 Validation Accuracy: 0.588800\n",
      "Epoch 73, CIFAR-10 Batch 5:  Loss:     0.1024 Validation Accuracy: 0.606400\n",
      "Epoch 74, CIFAR-10 Batch 1:  Loss:     0.1311 Validation Accuracy: 0.606400\n",
      "Epoch 74, CIFAR-10 Batch 2:  Loss:     0.0980 Validation Accuracy: 0.583600\n",
      "Epoch 74, CIFAR-10 Batch 3:  Loss:     0.0844 Validation Accuracy: 0.603800\n",
      "Epoch 74, CIFAR-10 Batch 4:  Loss:     0.0873 Validation Accuracy: 0.591200\n",
      "Epoch 74, CIFAR-10 Batch 5:  Loss:     0.1182 Validation Accuracy: 0.601000\n",
      "Epoch 75, CIFAR-10 Batch 1:  Loss:     0.1181 Validation Accuracy: 0.609200\n",
      "Epoch 75, CIFAR-10 Batch 2:  Loss:     0.1176 Validation Accuracy: 0.583000\n",
      "Epoch 75, CIFAR-10 Batch 3:  Loss:     0.0993 Validation Accuracy: 0.596200\n",
      "Epoch 75, CIFAR-10 Batch 4:  Loss:     0.0917 Validation Accuracy: 0.588400\n",
      "Epoch 75, CIFAR-10 Batch 5:  Loss:     0.0995 Validation Accuracy: 0.611400\n",
      "Epoch 76, CIFAR-10 Batch 1:  Loss:     0.1315 Validation Accuracy: 0.608200\n",
      "Epoch 76, CIFAR-10 Batch 2:  Loss:     0.0989 Validation Accuracy: 0.570800\n",
      "Epoch 76, CIFAR-10 Batch 3:  Loss:     0.0779 Validation Accuracy: 0.609600\n",
      "Epoch 76, CIFAR-10 Batch 4:  Loss:     0.0786 Validation Accuracy: 0.588600\n",
      "Epoch 76, CIFAR-10 Batch 5:  Loss:     0.0998 Validation Accuracy: 0.600600\n",
      "Epoch 77, CIFAR-10 Batch 1:  Loss:     0.1442 Validation Accuracy: 0.600600\n",
      "Epoch 77, CIFAR-10 Batch 2:  Loss:     0.0838 Validation Accuracy: 0.582400\n",
      "Epoch 77, CIFAR-10 Batch 3:  Loss:     0.0828 Validation Accuracy: 0.601000\n",
      "Epoch 77, CIFAR-10 Batch 4:  Loss:     0.0963 Validation Accuracy: 0.579400\n",
      "Epoch 77, CIFAR-10 Batch 5:  Loss:     0.0999 Validation Accuracy: 0.596400\n",
      "Epoch 78, CIFAR-10 Batch 1:  Loss:     0.1210 Validation Accuracy: 0.602800\n",
      "Epoch 78, CIFAR-10 Batch 2:  Loss:     0.0822 Validation Accuracy: 0.581600\n",
      "Epoch 78, CIFAR-10 Batch 3:  Loss:     0.0796 Validation Accuracy: 0.598600\n",
      "Epoch 78, CIFAR-10 Batch 4:  Loss:     0.0840 Validation Accuracy: 0.580000\n",
      "Epoch 78, CIFAR-10 Batch 5:  Loss:     0.0984 Validation Accuracy: 0.603400\n",
      "Epoch 79, CIFAR-10 Batch 1:  Loss:     0.1254 Validation Accuracy: 0.601400\n",
      "Epoch 79, CIFAR-10 Batch 2:  Loss:     0.0780 Validation Accuracy: 0.585000\n",
      "Epoch 79, CIFAR-10 Batch 3:  Loss:     0.1080 Validation Accuracy: 0.591200\n",
      "Epoch 79, CIFAR-10 Batch 4:  Loss:     0.0891 Validation Accuracy: 0.595400\n",
      "Epoch 79, CIFAR-10 Batch 5:  Loss:     0.0889 Validation Accuracy: 0.599200\n",
      "Epoch 80, CIFAR-10 Batch 1:  Loss:     0.1131 Validation Accuracy: 0.606200\n",
      "Epoch 80, CIFAR-10 Batch 2:  Loss:     0.0863 Validation Accuracy: 0.577200\n",
      "Epoch 80, CIFAR-10 Batch 3:  Loss:     0.1093 Validation Accuracy: 0.586200\n",
      "Epoch 80, CIFAR-10 Batch 4:  Loss:     0.0913 Validation Accuracy: 0.597200\n",
      "Epoch 80, CIFAR-10 Batch 5:  Loss:     0.0998 Validation Accuracy: 0.591200\n",
      "Epoch 81, CIFAR-10 Batch 1:  Loss:     0.1151 Validation Accuracy: 0.606000\n",
      "Epoch 81, CIFAR-10 Batch 2:  Loss:     0.0752 Validation Accuracy: 0.580400\n",
      "Epoch 81, CIFAR-10 Batch 3:  Loss:     0.0943 Validation Accuracy: 0.593800\n",
      "Epoch 81, CIFAR-10 Batch 4:  Loss:     0.0775 Validation Accuracy: 0.587800\n",
      "Epoch 81, CIFAR-10 Batch 5:  Loss:     0.0813 Validation Accuracy: 0.601600\n",
      "Epoch 82, CIFAR-10 Batch 1:  Loss:     0.1087 Validation Accuracy: 0.603600\n",
      "Epoch 82, CIFAR-10 Batch 2:  Loss:     0.0955 Validation Accuracy: 0.582600\n",
      "Epoch 82, CIFAR-10 Batch 3:  Loss:     0.0881 Validation Accuracy: 0.593600\n",
      "Epoch 82, CIFAR-10 Batch 4:  Loss:     0.0798 Validation Accuracy: 0.593200\n",
      "Epoch 82, CIFAR-10 Batch 5:  Loss:     0.0906 Validation Accuracy: 0.601400\n",
      "Epoch 83, CIFAR-10 Batch 1:  Loss:     0.1000 Validation Accuracy: 0.604200\n",
      "Epoch 83, CIFAR-10 Batch 2:  Loss:     0.0893 Validation Accuracy: 0.586000\n",
      "Epoch 83, CIFAR-10 Batch 3:  Loss:     0.0778 Validation Accuracy: 0.601200\n",
      "Epoch 83, CIFAR-10 Batch 4:  Loss:     0.0831 Validation Accuracy: 0.587200\n",
      "Epoch 83, CIFAR-10 Batch 5:  Loss:     0.1000 Validation Accuracy: 0.594400\n",
      "Epoch 84, CIFAR-10 Batch 1:  Loss:     0.1120 Validation Accuracy: 0.595400\n",
      "Epoch 84, CIFAR-10 Batch 2:  Loss:     0.0924 Validation Accuracy: 0.590600\n",
      "Epoch 84, CIFAR-10 Batch 3:  Loss:     0.0992 Validation Accuracy: 0.598400\n",
      "Epoch 84, CIFAR-10 Batch 4:  Loss:     0.0748 Validation Accuracy: 0.594200\n",
      "Epoch 84, CIFAR-10 Batch 5:  Loss:     0.0708 Validation Accuracy: 0.601000\n",
      "Epoch 85, CIFAR-10 Batch 1:  Loss:     0.1152 Validation Accuracy: 0.603000\n",
      "Epoch 85, CIFAR-10 Batch 2:  Loss:     0.0876 Validation Accuracy: 0.592600\n",
      "Epoch 85, CIFAR-10 Batch 3:  Loss:     0.0917 Validation Accuracy: 0.585400\n",
      "Epoch 85, CIFAR-10 Batch 4:  Loss:     0.0875 Validation Accuracy: 0.586600\n",
      "Epoch 85, CIFAR-10 Batch 5:  Loss:     0.0760 Validation Accuracy: 0.597000\n",
      "Epoch 86, CIFAR-10 Batch 1:  Loss:     0.1194 Validation Accuracy: 0.588200\n",
      "Epoch 86, CIFAR-10 Batch 2:  Loss:     0.0944 Validation Accuracy: 0.584200\n",
      "Epoch 86, CIFAR-10 Batch 3:  Loss:     0.0748 Validation Accuracy: 0.600600\n",
      "Epoch 86, CIFAR-10 Batch 4:  Loss:     0.0764 Validation Accuracy: 0.595400\n",
      "Epoch 86, CIFAR-10 Batch 5:  Loss:     0.0689 Validation Accuracy: 0.598200\n",
      "Epoch 87, CIFAR-10 Batch 1:  Loss:     0.1168 Validation Accuracy: 0.587600\n",
      "Epoch 87, CIFAR-10 Batch 2:  Loss:     0.0889 Validation Accuracy: 0.588000\n"
     ]
    },
    {
     "name": "stdout",
     "output_type": "stream",
     "text": [
      "Epoch 87, CIFAR-10 Batch 3:  Loss:     0.0672 Validation Accuracy: 0.602800\n",
      "Epoch 87, CIFAR-10 Batch 4:  Loss:     0.0686 Validation Accuracy: 0.596000\n",
      "Epoch 87, CIFAR-10 Batch 5:  Loss:     0.0692 Validation Accuracy: 0.591000\n",
      "Epoch 88, CIFAR-10 Batch 1:  Loss:     0.1150 Validation Accuracy: 0.585200\n",
      "Epoch 88, CIFAR-10 Batch 2:  Loss:     0.0833 Validation Accuracy: 0.592400\n",
      "Epoch 88, CIFAR-10 Batch 3:  Loss:     0.0683 Validation Accuracy: 0.595800\n",
      "Epoch 88, CIFAR-10 Batch 4:  Loss:     0.0659 Validation Accuracy: 0.601000\n",
      "Epoch 88, CIFAR-10 Batch 5:  Loss:     0.0695 Validation Accuracy: 0.596200\n",
      "Epoch 89, CIFAR-10 Batch 1:  Loss:     0.1108 Validation Accuracy: 0.583200\n",
      "Epoch 89, CIFAR-10 Batch 2:  Loss:     0.0679 Validation Accuracy: 0.590800\n",
      "Epoch 89, CIFAR-10 Batch 3:  Loss:     0.0704 Validation Accuracy: 0.599200\n",
      "Epoch 89, CIFAR-10 Batch 4:  Loss:     0.0586 Validation Accuracy: 0.594200\n",
      "Epoch 89, CIFAR-10 Batch 5:  Loss:     0.0728 Validation Accuracy: 0.590200\n",
      "Epoch 90, CIFAR-10 Batch 1:  Loss:     0.1121 Validation Accuracy: 0.596000\n",
      "Epoch 90, CIFAR-10 Batch 2:  Loss:     0.0732 Validation Accuracy: 0.595000\n",
      "Epoch 90, CIFAR-10 Batch 3:  Loss:     0.0687 Validation Accuracy: 0.600400\n",
      "Epoch 90, CIFAR-10 Batch 4:  Loss:     0.0743 Validation Accuracy: 0.594600\n",
      "Epoch 90, CIFAR-10 Batch 5:  Loss:     0.0699 Validation Accuracy: 0.594000\n",
      "Epoch 91, CIFAR-10 Batch 1:  Loss:     0.1071 Validation Accuracy: 0.587600\n",
      "Epoch 91, CIFAR-10 Batch 2:  Loss:     0.0816 Validation Accuracy: 0.590200\n",
      "Epoch 91, CIFAR-10 Batch 3:  Loss:     0.0651 Validation Accuracy: 0.605200\n",
      "Epoch 91, CIFAR-10 Batch 4:  Loss:     0.0688 Validation Accuracy: 0.597800\n",
      "Epoch 91, CIFAR-10 Batch 5:  Loss:     0.0636 Validation Accuracy: 0.596600\n",
      "Epoch 92, CIFAR-10 Batch 1:  Loss:     0.0995 Validation Accuracy: 0.595800\n",
      "Epoch 92, CIFAR-10 Batch 2:  Loss:     0.0615 Validation Accuracy: 0.595000\n",
      "Epoch 92, CIFAR-10 Batch 3:  Loss:     0.0617 Validation Accuracy: 0.605400\n",
      "Epoch 92, CIFAR-10 Batch 4:  Loss:     0.0748 Validation Accuracy: 0.598600\n",
      "Epoch 92, CIFAR-10 Batch 5:  Loss:     0.0632 Validation Accuracy: 0.591600\n",
      "Epoch 93, CIFAR-10 Batch 1:  Loss:     0.1035 Validation Accuracy: 0.591400\n",
      "Epoch 93, CIFAR-10 Batch 2:  Loss:     0.0719 Validation Accuracy: 0.595800\n",
      "Epoch 93, CIFAR-10 Batch 3:  Loss:     0.0669 Validation Accuracy: 0.598600\n",
      "Epoch 93, CIFAR-10 Batch 4:  Loss:     0.0776 Validation Accuracy: 0.597800\n",
      "Epoch 93, CIFAR-10 Batch 5:  Loss:     0.0609 Validation Accuracy: 0.595400\n",
      "Epoch 94, CIFAR-10 Batch 1:  Loss:     0.0997 Validation Accuracy: 0.595600\n",
      "Epoch 94, CIFAR-10 Batch 2:  Loss:     0.0577 Validation Accuracy: 0.599200\n",
      "Epoch 94, CIFAR-10 Batch 3:  Loss:     0.0618 Validation Accuracy: 0.608000\n",
      "Epoch 94, CIFAR-10 Batch 4:  Loss:     0.0713 Validation Accuracy: 0.596600\n",
      "Epoch 94, CIFAR-10 Batch 5:  Loss:     0.0617 Validation Accuracy: 0.603600\n",
      "Epoch 95, CIFAR-10 Batch 1:  Loss:     0.1050 Validation Accuracy: 0.589800\n",
      "Epoch 95, CIFAR-10 Batch 2:  Loss:     0.0625 Validation Accuracy: 0.593800\n",
      "Epoch 95, CIFAR-10 Batch 3:  Loss:     0.0635 Validation Accuracy: 0.610800\n",
      "Epoch 95, CIFAR-10 Batch 4:  Loss:     0.0708 Validation Accuracy: 0.597800\n",
      "Epoch 95, CIFAR-10 Batch 5:  Loss:     0.0631 Validation Accuracy: 0.598600\n",
      "Epoch 96, CIFAR-10 Batch 1:  Loss:     0.1130 Validation Accuracy: 0.586200\n",
      "Epoch 96, CIFAR-10 Batch 2:  Loss:     0.0592 Validation Accuracy: 0.596400\n",
      "Epoch 96, CIFAR-10 Batch 3:  Loss:     0.0543 Validation Accuracy: 0.605200\n",
      "Epoch 96, CIFAR-10 Batch 4:  Loss:     0.0682 Validation Accuracy: 0.594200\n",
      "Epoch 96, CIFAR-10 Batch 5:  Loss:     0.0635 Validation Accuracy: 0.594400\n",
      "Epoch 97, CIFAR-10 Batch 1:  Loss:     0.0970 Validation Accuracy: 0.580400\n",
      "Epoch 97, CIFAR-10 Batch 2:  Loss:     0.0966 Validation Accuracy: 0.595600\n",
      "Epoch 97, CIFAR-10 Batch 3:  Loss:     0.0578 Validation Accuracy: 0.605400\n",
      "Epoch 97, CIFAR-10 Batch 4:  Loss:     0.0638 Validation Accuracy: 0.599400\n",
      "Epoch 97, CIFAR-10 Batch 5:  Loss:     0.0708 Validation Accuracy: 0.595800\n",
      "Epoch 98, CIFAR-10 Batch 1:  Loss:     0.1068 Validation Accuracy: 0.583000\n",
      "Epoch 98, CIFAR-10 Batch 2:  Loss:     0.0924 Validation Accuracy: 0.597800\n",
      "Epoch 98, CIFAR-10 Batch 3:  Loss:     0.0562 Validation Accuracy: 0.594600\n",
      "Epoch 98, CIFAR-10 Batch 4:  Loss:     0.0615 Validation Accuracy: 0.592600\n",
      "Epoch 98, CIFAR-10 Batch 5:  Loss:     0.0603 Validation Accuracy: 0.601000\n",
      "Epoch 99, CIFAR-10 Batch 1:  Loss:     0.1144 Validation Accuracy: 0.587600\n",
      "Epoch 99, CIFAR-10 Batch 2:  Loss:     0.0671 Validation Accuracy: 0.600000\n",
      "Epoch 99, CIFAR-10 Batch 3:  Loss:     0.0449 Validation Accuracy: 0.600400\n",
      "Epoch 99, CIFAR-10 Batch 4:  Loss:     0.0670 Validation Accuracy: 0.594400\n",
      "Epoch 99, CIFAR-10 Batch 5:  Loss:     0.0576 Validation Accuracy: 0.606400\n",
      "Epoch 100, CIFAR-10 Batch 1:  Loss:     0.0985 Validation Accuracy: 0.593600\n",
      "Epoch 100, CIFAR-10 Batch 2:  Loss:     0.0666 Validation Accuracy: 0.595200\n",
      "Epoch 100, CIFAR-10 Batch 3:  Loss:     0.0485 Validation Accuracy: 0.597600\n",
      "Epoch 100, CIFAR-10 Batch 4:  Loss:     0.0566 Validation Accuracy: 0.594800\n",
      "Epoch 100, CIFAR-10 Batch 5:  Loss:     0.0605 Validation Accuracy: 0.605400\n"
     ]
    }
   ],
   "source": [
    "\"\"\"\n",
    "DON'T MODIFY ANYTHING IN THIS CELL\n",
    "\"\"\"\n",
    "save_model_path = './image_classification'\n",
    "\n",
    "print('Training...')\n",
    "with tf.Session() as sess:\n",
    "    # Initializing the variables\n",
    "    sess.run(tf.global_variables_initializer())\n",
    "    \n",
    "    # Training cycle\n",
    "    for epoch in range(epochs):\n",
    "        # Loop over all batches\n",
    "        n_batches = 5\n",
    "        for batch_i in range(1, n_batches + 1):\n",
    "            for batch_features, batch_labels in helper.load_preprocess_training_batch(batch_i, batch_size):\n",
    "                train_neural_network(sess, optimizer, keep_probability, batch_features, batch_labels)\n",
    "            print('Epoch {:>2}, CIFAR-10 Batch {}:  '.format(epoch + 1, batch_i), end='')\n",
    "            print_stats(sess, batch_features, batch_labels, cost, accuracy)\n",
    "            \n",
    "    # Save Model\n",
    "    saver = tf.train.Saver()\n",
    "    save_path = saver.save(sess, save_model_path)"
   ]
  },
  {
   "cell_type": "markdown",
   "metadata": {
    "nbpresent": {
     "id": "89ce0b97-6160-45d9-a028-999861a225ff"
    }
   },
   "source": [
    "# Checkpoint\n",
    "The model has been saved to disk.\n",
    "## Test Model\n",
    "Test your model against the test dataset.  This will be your final accuracy. You should have an accuracy greater than 50%. If you don't, keep tweaking the model architecture and parameters."
   ]
  },
  {
   "cell_type": "code",
   "execution_count": 34,
   "metadata": {
    "nbpresent": {
     "id": "e57e6d37-db25-4398-bd75-bbe46fa39040"
    }
   },
   "outputs": [
    {
     "name": "stdout",
     "output_type": "stream",
     "text": [
      "INFO:tensorflow:Restoring parameters from ./image_classification\n",
      "Testing Accuracy: 0.5982421875\n",
      "\n"
     ]
    },
    {
     "data": {
      "image/png": "[encoded data removed]",
      "text/plain": [
       "<matplotlib.figure.Figure at 0x7ff1d842c3c8>"
      ]
     },
     "metadata": {
      "image/png": {
       "height": 319,
       "width": 355
      }
     },
     "output_type": "display_data"
    }
   ],
   "source": [
    "\"\"\"\n",
    "DON'T MODIFY ANYTHING IN THIS CELL\n",
    "\"\"\"\n",
    "%matplotlib inline\n",
    "%config InlineBackend.figure_format = 'retina'\n",
    "\n",
    "import tensorflow as tf\n",
    "import pickle\n",
    "import helper\n",
    "import random\n",
    "\n",
    "# Set batch size if not already set\n",
    "try:\n",
    "    if batch_size:\n",
    "        pass\n",
    "except NameError:\n",
    "    batch_size = 64\n",
    "\n",
    "save_model_path = './image_classification'\n",
    "n_samples = 4\n",
    "top_n_predictions = 3\n",
    "\n",
    "def test_model():\n",
    "    \"\"\"\n",
    "    Test the saved model against the test dataset\n",
    "    \"\"\"\n",
    "\n",
    "    test_features, test_labels = pickle.load(open('preprocess_test.p', mode='rb'))\n",
    "    loaded_graph = tf.Graph()\n",
    "\n",
    "    with tf.Session(graph=loaded_graph) as sess:\n",
    "        # Load model\n",
    "        loader = tf.train.import_meta_graph(save_model_path + '.meta')\n",
    "        loader.restore(sess, save_model_path)\n",
    "\n",
    "        # Get Tensors from loaded model\n",
    "        loaded_x = loaded_graph.get_tensor_by_name('x:0')\n",
    "        loaded_y = loaded_graph.get_tensor_by_name('y:0')\n",
    "        loaded_keep_prob = loaded_graph.get_tensor_by_name('keep_prob:0')\n",
    "        loaded_logits = loaded_graph.get_tensor_by_name('logits:0')\n",
    "        loaded_acc = loaded_graph.get_tensor_by_name('accuracy:0')\n",
    "        \n",
    "        # Get accuracy in batches for memory limitations\n",
    "        test_batch_acc_total = 0\n",
    "        test_batch_count = 0\n",
    "        \n",
    "        for test_feature_batch, test_label_batch in helper.batch_features_labels(test_features, test_labels, batch_size):\n",
    "            test_batch_acc_total += sess.run(\n",
    "                loaded_acc,\n",
    "                feed_dict={loaded_x: test_feature_batch, loaded_y: test_label_batch, loaded_keep_prob: 1.0})\n",
    "            test_batch_count += 1\n",
    "\n",
    "        print('Testing Accuracy: {}\\n'.format(test_batch_acc_total/test_batch_count))\n",
    "\n",
    "        # Print Random Samples\n",
    "        random_test_features, random_test_labels = tuple(zip(*random.sample(list(zip(test_features, test_labels)), n_samples)))\n",
    "        random_test_predictions = sess.run(\n",
    "            tf.nn.top_k(tf.nn.softmax(loaded_logits), top_n_predictions),\n",
    "            feed_dict={loaded_x: random_test_features, loaded_y: random_test_labels, loaded_keep_prob: 1.0})\n",
    "        helper.display_image_predictions(random_test_features, random_test_labels, random_test_predictions)\n",
    "\n",
    "\n",
    "test_model()"
   ]
  },
  {
   "cell_type": "markdown",
   "metadata": {
    "nbpresent": {
     "id": "ff773bd6-3e86-4e2b-bb6d-4e9525bf55c7"
    }
   },
   "source": [
    "## Why 50-80% Accuracy?\n",
    "You might be wondering why you can't get an accuracy any higher. First things first, 50% isn't bad for a simple CNN.  Pure guessing would get you 10% accuracy. However, you might notice people are getting scores [well above 80%](http://rodrigob.github.io/are_we_there_yet/build/classification_datasets_results.html#43494641522d3130).  That's because we haven't taught you all there is to know about neural networks. We still need to cover a few more techniques.\n",
    "## Submitting This Project\n",
    "When submitting this project, make sure to run all the cells before saving the notebook.  Save the notebook file as \"dlnd_image_classification.ipynb\" and save it as a HTML file under \"File\" -> \"Download as\".  Include the \"helper.py\" and \"problem_unittests.py\" files in your submission."
   ]
  }
 ],
 "metadata": {
  "kernelspec": {
   "display_name": "Python [default]",
   "language": "python",
   "name": "python3"
  },
  "language_info": {
   "codemirror_mode": {
    "name": "ipython",
    "version": 3
   },
   "file_extension": ".py",
   "mimetype": "text/x-python",
   "name": "python",
   "nbconvert_exporter": "python",
   "pygments_lexer": "ipython3",
   "version": "3.6.3"
  },
  "nbpresent": {
   "slides": {
    "026c4092-0e7a-4657-94cd-99c0dcfa8716": {
     "id": "026c4092-0e7a-4657-94cd-99c0dcfa8716",
     "prev": "c035cb4b-389e-4069-b1a5-9ee1d0d948f9",
     "regions": {
      "1bc091b1-cdd1-4661-ac8a-65aeb4180f5a": {
       "attrs": {
        "height": 0.8,
        "width": 0.8,
        "x": 0.1,
        "y": 0.1
       },
       "content": {
        "cell": "a644a104-13de-434a-a2dc-b01f93539eb4",
        "part": "whole"
       },
       "id": "1bc091b1-cdd1-4661-ac8a-65aeb4180f5a"
      }
     }
    },
    "0a2f0b2e-10c1-4ff3-8f0d-ec4df416b2f2": {
     "id": "0a2f0b2e-10c1-4ff3-8f0d-ec4df416b2f2",
     "prev": null,
     "regions": {
      "d853d71c-0d66-49fe-856a-09f1ba52a3ef": {
       "attrs": {
        "height": 0.8,
        "width": 0.8,
        "x": 0.1,
        "y": 0.1
       },
       "content": {
        "cell": "b227af79-cfd8-4ba6-b2af-3f134c7018f0",
        "part": "whole"
       },
       "id": "d853d71c-0d66-49fe-856a-09f1ba52a3ef"
      }
     }
    },
    "0ba76fc7-0039-40da-8422-1e9cb2ddede9": {
     "id": "0ba76fc7-0039-40da-8422-1e9cb2ddede9",
     "prev": "2b025c83-814f-4ed9-ab23-db77ed593ee0",
     "regions": {
      "8eef54db-8a44-4360-93f0-470a20d2b937": {
       "attrs": {
        "height": 0.8,
        "width": 0.8,
        "x": 0.1,
        "y": 0.1
       },
       "content": {
        "cell": "957e87b0-7580-486f-8235-9747a092e680",
        "part": "whole"
       },
       "id": "8eef54db-8a44-4360-93f0-470a20d2b937"
      }
     }
    },
    "16301c80-b679-4df5-8944-2e6d99bc80a6": {
     "id": "16301c80-b679-4df5-8944-2e6d99bc80a6",
     "prev": "4d014307-37ac-4b79-bcc1-11829dddfd18",
     "regions": {
      "4aa22abf-828c-452f-8efe-d1c1cbbb941b": {
       "attrs": {
        "height": 0.8,
        "width": 0.8,
        "x": 0.1,
        "y": 0.1
       },
       "content": {
        "cell": "26be5398-aef3-4406-92a8-29608d5fe4ce",
        "part": "whole"
       },
       "id": "4aa22abf-828c-452f-8efe-d1c1cbbb941b"
      }
     }
    },
    "17593e9c-8425-4634-8e8b-6e0c16efc779": {
     "id": "17593e9c-8425-4634-8e8b-6e0c16efc779",
     "prev": "2bc998ed-e036-45ec-88eb-884e0c51bdd9",
     "regions": {
      "57fdc123-5f87-4187-9b6b-607965f0a6ae": {
       "attrs": {
        "height": 0.8,
        "width": 0.8,
        "x": 0.1,
        "y": 0.1
       },
       "content": {
        "cell": "a96e921f-f344-4c88-aaf7-883a59f6737a",
        "part": "whole"
       },
       "id": "57fdc123-5f87-4187-9b6b-607965f0a6ae"
      }
     }
    },
    "1bcfbce4-56fb-4398-84b4-677bcf8bb673": {
     "id": "1bcfbce4-56fb-4398-84b4-677bcf8bb673",
     "prev": "fec05d0a-de03-410d-bfa3-68a1d8faed9b",
     "regions": {
      "1a92b604-6592-4a1b-b545-8c115e218771": {
       "attrs": {
        "height": 0.8,
        "width": 0.8,
        "x": 0.1,
        "y": 0.1
       },
       "content": {
        "cell": "ccee0bb5-025d-4603-a3b0-1c99493478f9",
        "part": "whole"
       },
       "id": "1a92b604-6592-4a1b-b545-8c115e218771"
      }
     }
    },
    "2683dcd0-859a-403e-8a25-99cc19cf3186": {
     "id": "2683dcd0-859a-403e-8a25-99cc19cf3186",
     "prev": "6088f266-47f9-4819-a276-118580a5a91d",
     "regions": {
      "a37c5e97-076c-4ded-87f3-35d8593c6e5b": {
       "attrs": {
        "height": 0.8,
        "width": 0.8,
        "x": 0.1,
        "y": 0.1
       },
       "content": {
        "cell": "a870740f-4504-4860-a3e9-71448534c3f6",
        "part": "whole"
       },
       "id": "a37c5e97-076c-4ded-87f3-35d8593c6e5b"
      }
     }
    },
    "2a7c3067-b655-4d86-b577-7c82ac6aecb0": {
     "id": "2a7c3067-b655-4d86-b577-7c82ac6aecb0",
     "prev": "7b3a623f-514d-4578-b87e-6f92ab7afe81",
     "regions": {
      "c20f842f-40e3-435f-b219-c3ab5623979e": {
       "attrs": {
        "height": 0.8,
        "width": 0.8,
        "x": 0.1,
        "y": 0.1
       },
       "content": {
        "cell": "2e785cd8-c30d-4397-87a9-e8b29916479f",
        "part": "whole"
       },
       "id": "c20f842f-40e3-435f-b219-c3ab5623979e"
      }
     }
    },
    "2b025c83-814f-4ed9-ab23-db77ed593ee0": {
     "id": "2b025c83-814f-4ed9-ab23-db77ed593ee0",
     "prev": "b98580f0-dfcf-416e-a80e-babd6a827d2b",
     "regions": {
      "79f3ecca-e167-44ef-bee0-572f4f9150a9": {
       "attrs": {
        "height": 0.8,
        "width": 0.8,
        "x": 0.1,
        "y": 0.1
       },
       "content": {
        "cell": "bb672799-5194-4bdc-b572-7b3356d93d67",
        "part": "whole"
       },
       "id": "79f3ecca-e167-44ef-bee0-572f4f9150a9"
      }
     }
    },
    "2bc998ed-e036-45ec-88eb-884e0c51bdd9": {
     "id": "2bc998ed-e036-45ec-88eb-884e0c51bdd9",
     "prev": "617c6d56-9893-47ab-bbb1-085c1e257fb0",
     "regions": {
      "8a2262f6-92f3-45ed-ad50-68e4908c8bf0": {
       "attrs": {
        "height": 0.8,
        "width": 0.8,
        "x": 0.1,
        "y": 0.1
       },
       "content": {
        "cell": "80a526d7-e328-4529-8478-2ed962b5998d",
        "part": "whole"
       },
       "id": "8a2262f6-92f3-45ed-ad50-68e4908c8bf0"
      }
     }
    },
    "3274000b-bdb8-4bfc-9e8b-ad90138d9caf": {
     "id": "3274000b-bdb8-4bfc-9e8b-ad90138d9caf",
     "prev": "5f42af09-40b7-4141-ac22-702942c07dc7",
     "regions": {
      "1bad70ad-4005-457f-b0c8-8e213e5cc038": {
       "attrs": {
        "height": 0.8,
        "width": 0.8,
        "x": 0.1,
        "y": 0.1
       },
       "content": {
        "cell": "cee96232-3261-40ed-aa80-79b193873478",
        "part": "whole"
       },
       "id": "1bad70ad-4005-457f-b0c8-8e213e5cc038"
      }
     }
    },
    "3fcaef7e-00d6-44e1-8578-c3a8fa0873b4": {
     "id": "3fcaef7e-00d6-44e1-8578-c3a8fa0873b4",
     "prev": "de789b41-5490-488c-bc95-1dfbc34c8298",
     "regions": {
      "149bbbc7-6143-4467-8e29-080044090a31": {
       "attrs": {
        "height": 0.8,
        "width": 0.8,
        "x": 0.1,
        "y": 0.1
       },
       "content": {
        "cell": "c458bcd1-c398-43be-8d61-6ee9ded25a24",
        "part": "whole"
       },
       "id": "149bbbc7-6143-4467-8e29-080044090a31"
      }
     }
    },
    "46d7f25a-cd93-4636-9389-5cc2b2b5b607": {
     "id": "46d7f25a-cd93-4636-9389-5cc2b2b5b607",
     "prev": "967baf5a-45b7-4de1-b6de-4efb3f01b7da",
     "regions": {
      "b5134921-7c46-47f2-a886-5f353fb88e0e": {
       "attrs": {
        "height": 0.8,
        "width": 0.8,
        "x": 0.1,
        "y": 0.1
       },
       "content": {
        "cell": "9f63063b-497b-4a8e-9742-f83ace827c0c",
        "part": "whole"
       },
       "id": "b5134921-7c46-47f2-a886-5f353fb88e0e"
      }
     }
    },
    "4d014307-37ac-4b79-bcc1-11829dddfd18": {
     "id": "4d014307-37ac-4b79-bcc1-11829dddfd18",
     "prev": "17593e9c-8425-4634-8e8b-6e0c16efc779",
     "regions": {
      "a82aaa17-700f-4c0c-9e72-c57c0fccdfcc": {
       "attrs": {
        "height": 0.8,
        "width": 0.8,
        "x": 0.1,
        "y": 0.1
       },
       "content": {
        "cell": "f8d83437-fe26-48d4-8097-e3152e06b040",
        "part": "whole"
       },
       "id": "a82aaa17-700f-4c0c-9e72-c57c0fccdfcc"
      }
     }
    },
    "5b77d7e0-a159-425c-8365-a5b64d068b84": {
     "id": "5b77d7e0-a159-425c-8365-a5b64d068b84",
     "prev": "d8045085-ad8b-4793-b62c-6cdc1eda3044",
     "regions": {
      "becfef85-3d5a-43fa-8ed2-eceab4b67e2a": {
       "attrs": {
        "height": 0.8,
        "width": 0.8,
        "x": 0.1,
        "y": 0.1
       },
       "content": {
        "cell": "a671e145-09b2-460a-a71f-2527b9a13c04",
        "part": "whole"
       },
       "id": "becfef85-3d5a-43fa-8ed2-eceab4b67e2a"
      }
     }
    },
    "5ed21147-b2e5-4e39-a223-44eeb6073609": {
     "id": "5ed21147-b2e5-4e39-a223-44eeb6073609",
     "prev": "dc215e96-7e4b-4d6f-9023-b9c38d1c5eaa",
     "regions": {
      "0c143775-6e04-4877-b1ec-c93cd8439824": {
       "attrs": {
        "height": 0.8,
        "width": 0.8,
        "x": 0.1,
        "y": 0.1
       },
       "content": {
        "cell": "ff773bd6-3e86-4e2b-bb6d-4e9525bf55c7",
        "part": "whole"
       },
       "id": "0c143775-6e04-4877-b1ec-c93cd8439824"
      }
     }
    },
    "5f42af09-40b7-4141-ac22-702942c07dc7": {
     "id": "5f42af09-40b7-4141-ac22-702942c07dc7",
     "prev": "0ba76fc7-0039-40da-8422-1e9cb2ddede9",
     "regions": {
      "eafa2003-f70f-470b-b5e3-3a587018572f": {
       "attrs": {
        "height": 0.8,
        "width": 0.8,
        "x": 0.1,
        "y": 0.1
       },
       "content": {
        "cell": "0216d318-317b-4a04-a9e7-284a09575372",
        "part": "whole"
       },
       "id": "eafa2003-f70f-470b-b5e3-3a587018572f"
      }
     }
    },
    "6088f266-47f9-4819-a276-118580a5a91d": {
     "id": "6088f266-47f9-4819-a276-118580a5a91d",
     "prev": "5b77d7e0-a159-425c-8365-a5b64d068b84",
     "regions": {
      "5888125c-4e81-4319-8e92-9a4dd5c53360": {
       "attrs": {
        "height": 0.8,
        "width": 0.8,
        "x": 0.1,
        "y": 0.1
       },
       "content": {
        "cell": "f4eeaa0d-81a5-4e91-b2f9-5f06f7cdc41a",
        "part": "whole"
       },
       "id": "5888125c-4e81-4319-8e92-9a4dd5c53360"
      }
     }
    },
    "617c6d56-9893-47ab-bbb1-085c1e257fb0": {
     "id": "617c6d56-9893-47ab-bbb1-085c1e257fb0",
     "prev": "a037f7a0-1cc2-4a6d-8c68-c9faebd728c3",
     "regions": {
      "c12de0cc-ee04-40de-a5ca-6e9eb628f275": {
       "attrs": {
        "height": 0.8,
        "width": 0.8,
        "x": 0.1,
        "y": 0.1
       },
       "content": {
        "cell": "8bf984d0-f239-46c8-98b1-4ee71dda136c",
        "part": "whole"
       },
       "id": "c12de0cc-ee04-40de-a5ca-6e9eb628f275"
      }
     }
    },
    "628141d5-4e84-482f-bfe6-4c2b302ca57e": {
     "id": "628141d5-4e84-482f-bfe6-4c2b302ca57e",
     "prev": "91c888a6-09c2-4faf-8511-ef11478a1bb5",
     "regions": {
      "f44ac976-2226-4346-839e-afa4edc0f0f3": {
       "attrs": {
        "height": 0.8,
        "width": 0.8,
        "x": 0.1,
        "y": 0.1
       },
       "content": {
        "cell": "d18983e4-9dc1-4149-9e97-4407227d41f2",
        "part": "whole"
       },
       "id": "f44ac976-2226-4346-839e-afa4edc0f0f3"
      }
     }
    },
    "662f4b84-1bab-419b-b765-212808d39a23": {
     "id": "662f4b84-1bab-419b-b765-212808d39a23",
     "prev": "3fcaef7e-00d6-44e1-8578-c3a8fa0873b4",
     "regions": {
      "c3f8a217-1721-43ad-aa78-8556ccd21a00": {
       "attrs": {
        "height": 0.8,
        "width": 0.8,
        "x": 0.1,
        "y": 0.1
       },
       "content": {
        "cell": "97df382b-be57-4ed2-b588-627a4600c261",
        "part": "whole"
       },
       "id": "c3f8a217-1721-43ad-aa78-8556ccd21a00"
      }
     }
    },
    "7b3a623f-514d-4578-b87e-6f92ab7afe81": {
     "id": "7b3a623f-514d-4578-b87e-6f92ab7afe81",
     "prev": "46d7f25a-cd93-4636-9389-5cc2b2b5b607",
     "regions": {
      "44f3b1bf-a127-4235-8197-e963b06abec1": {
       "attrs": {
        "height": 0.8,
        "width": 0.8,
        "x": 0.1,
        "y": 0.1
       },
       "content": {
        "cell": "ed9a730e-d6c3-4d61-81e7-0b6aca882cef",
        "part": "whole"
       },
       "id": "44f3b1bf-a127-4235-8197-e963b06abec1"
      }
     }
    },
    "91c888a6-09c2-4faf-8511-ef11478a1bb5": {
     "id": "91c888a6-09c2-4faf-8511-ef11478a1bb5",
     "prev": "3274000b-bdb8-4bfc-9e8b-ad90138d9caf",
     "regions": {
      "d86cfbdf-6284-483e-8e31-40cb4206c241": {
       "attrs": {
        "height": 0.8,
        "width": 0.8,
        "x": 0.1,
        "y": 0.1
       },
       "content": {
        "cell": "2971db85-4033-49e8-aef5-b031e4f6be04",
        "part": "whole"
       },
       "id": "d86cfbdf-6284-483e-8e31-40cb4206c241"
      }
     }
    },
    "92a3c989-69e7-4745-a57a-ada6152f5866": {
     "id": "92a3c989-69e7-4745-a57a-ada6152f5866",
     "prev": "ef97e5ae-5985-4bcf-bff3-22c341217336",
     "regions": {
      "41b92ca6-7696-4f18-bd57-5c0aa1351aa4": {
       "attrs": {
        "height": 0.8,
        "width": 0.8,
        "x": 0.1,
        "y": 0.1
       },
       "content": {
        "cell": "229f63ae-9dfe-46a4-9c07-84397fc269a3",
        "part": "whole"
       },
       "id": "41b92ca6-7696-4f18-bd57-5c0aa1351aa4"
      }
     }
    },
    "967baf5a-45b7-4de1-b6de-4efb3f01b7da": {
     "id": "967baf5a-45b7-4de1-b6de-4efb3f01b7da",
     "prev": "2683dcd0-859a-403e-8a25-99cc19cf3186",
     "regions": {
      "5e50c4f5-b7f0-4bc0-8294-54cda814985d": {
       "attrs": {
        "height": 0.8,
        "width": 0.8,
        "x": 0.1,
        "y": 0.1
       },
       "content": {
        "cell": "85b44b81-a5b5-4397-ab9d-43d0627886e3",
        "part": "whole"
       },
       "id": "5e50c4f5-b7f0-4bc0-8294-54cda814985d"
      }
     }
    },
    "a037f7a0-1cc2-4a6d-8c68-c9faebd728c3": {
     "id": "a037f7a0-1cc2-4a6d-8c68-c9faebd728c3",
     "prev": "2a7c3067-b655-4d86-b577-7c82ac6aecb0",
     "regions": {
      "f1b33c73-1a80-44c0-827d-7b3a9037ca51": {
       "attrs": {
        "height": 0.8,
        "width": 0.8,
        "x": 0.1,
        "y": 0.1
       },
       "content": {
        "cell": "cb379f29-c5d4-4a6e-b196-8077e6f55bde",
        "part": "whole"
       },
       "id": "f1b33c73-1a80-44c0-827d-7b3a9037ca51"
      }
     }
    },
    "b2456e98-050c-4788-bf4d-0459e6bb8a02": {
     "id": "b2456e98-050c-4788-bf4d-0459e6bb8a02",
     "prev": "92a3c989-69e7-4745-a57a-ada6152f5866",
     "regions": {
      "a38c1cea-7569-45e8-adc2-d54f090542ac": {
       "attrs": {
        "height": 0.8,
        "width": 0.8,
        "x": 0.1,
        "y": 0.1
       },
       "content": {
        "cell": "a79c9135-da4b-4b13-9ef7-d972016ef90c",
        "part": "whole"
       },
       "id": "a38c1cea-7569-45e8-adc2-d54f090542ac"
      }
     }
    },
    "b3023ccb-81d8-4303-a04b-d574ab1712e9": {
     "id": "b3023ccb-81d8-4303-a04b-d574ab1712e9",
     "prev": "16301c80-b679-4df5-8944-2e6d99bc80a6",
     "regions": {
      "fc800c3a-3d46-444b-953d-ca14a4f4b946": {
       "attrs": {
        "height": 0.8,
        "width": 0.8,
        "x": 0.1,
        "y": 0.1
       },
       "content": {
        "cell": "8b4a8162-cb03-486a-9bb7-8747ef38f524",
        "part": "whole"
       },
       "id": "fc800c3a-3d46-444b-953d-ca14a4f4b946"
      }
     }
    },
    "b98580f0-dfcf-416e-a80e-babd6a827d2b": {
     "id": "b98580f0-dfcf-416e-a80e-babd6a827d2b",
     "prev": "b2456e98-050c-4788-bf4d-0459e6bb8a02",
     "regions": {
      "f03bc09c-8311-4c61-ab9c-f35227871077": {
       "attrs": {
        "height": 0.8,
        "width": 0.8,
        "x": 0.1,
        "y": 0.1
       },
       "content": {
        "cell": "59f5ba1d-0534-49c4-ad67-aec006dfe311",
        "part": "whole"
       },
       "id": "f03bc09c-8311-4c61-ab9c-f35227871077"
      }
     }
    },
    "bf4b93b4-1407-4e9a-96d9-a84c936b982f": {
     "id": "bf4b93b4-1407-4e9a-96d9-a84c936b982f",
     "prev": "b3023ccb-81d8-4303-a04b-d574ab1712e9",
     "regions": {
      "4895a6e0-bf0d-43cb-9e67-db1524a19f5b": {
       "attrs": {
        "height": 0.8,
        "width": 0.8,
        "x": 0.1,
        "y": 0.1
       },
       "content": {
        "cell": "a70ca7a8-430f-4899-ae26-1aa7014932d8",
        "part": "whole"
       },
       "id": "4895a6e0-bf0d-43cb-9e67-db1524a19f5b"
      }
     }
    },
    "c035cb4b-389e-4069-b1a5-9ee1d0d948f9": {
     "id": "c035cb4b-389e-4069-b1a5-9ee1d0d948f9",
     "prev": "662f4b84-1bab-419b-b765-212808d39a23",
     "regions": {
      "480147db-dd31-4498-9712-756204a80802": {
       "attrs": {
        "height": 0.8,
        "width": 0.8,
        "x": 0.1,
        "y": 0.1
       },
       "content": {
        "cell": "4fa2bb66-1e3d-47e2-8405-ed1311bc0ddf",
        "part": "whole"
       },
       "id": "480147db-dd31-4498-9712-756204a80802"
      }
     }
    },
    "c2beb7a0-8305-4e87-adb7-be46a028d95d": {
     "id": "c2beb7a0-8305-4e87-adb7-be46a028d95d",
     "prev": "628141d5-4e84-482f-bfe6-4c2b302ca57e",
     "regions": {
      "a3ee14dc-ea8c-409c-91b6-813e62a3d8c6": {
       "attrs": {
        "height": 0.8,
        "width": 0.8,
        "x": 0.1,
        "y": 0.1
       },
       "content": {
        "cell": "dd6631eb-9a87-4794-a743-b7717cd14ca9",
        "part": "whole"
       },
       "id": "a3ee14dc-ea8c-409c-91b6-813e62a3d8c6"
      }
     }
    },
    "cb3c841e-efd4-4966-a3eb-71c8b1f7ab1c": {
     "id": "cb3c841e-efd4-4966-a3eb-71c8b1f7ab1c",
     "prev": "026c4092-0e7a-4657-94cd-99c0dcfa8716",
     "regions": {
      "84207db5-7ea2-45d6-bc54-125f2ab4faec": {
       "attrs": {
        "height": 0.8,
        "width": 0.8,
        "x": 0.1,
        "y": 0.1
       },
       "content": {
        "cell": "89ce0b97-6160-45d9-a028-999861a225ff",
        "part": "whole"
       },
       "id": "84207db5-7ea2-45d6-bc54-125f2ab4faec"
      }
     }
    },
    "d8045085-ad8b-4793-b62c-6cdc1eda3044": {
     "id": "d8045085-ad8b-4793-b62c-6cdc1eda3044",
     "prev": "c2beb7a0-8305-4e87-adb7-be46a028d95d",
     "regions": {
      "208f9b7a-1d14-4a21-a3f6-20c34e3071c7": {
       "attrs": {
        "height": 0.8,
        "width": 0.8,
        "x": 0.1,
        "y": 0.1
       },
       "content": {
        "cell": "c4958283-4f3b-4c25-b227-55270c060af8",
        "part": "whole"
       },
       "id": "208f9b7a-1d14-4a21-a3f6-20c34e3071c7"
      }
     }
    },
    "dc215e96-7e4b-4d6f-9023-b9c38d1c5eaa": {
     "id": "dc215e96-7e4b-4d6f-9023-b9c38d1c5eaa",
     "prev": "cb3c841e-efd4-4966-a3eb-71c8b1f7ab1c",
     "regions": {
      "c6ebc158-b0f3-4530-a5fa-7d619372a61b": {
       "attrs": {
        "height": 0.8,
        "width": 0.8,
        "x": 0.1,
        "y": 0.1
       },
       "content": {
        "cell": "e57e6d37-db25-4398-bd75-bbe46fa39040",
        "part": "whole"
       },
       "id": "c6ebc158-b0f3-4530-a5fa-7d619372a61b"
      }
     }
    },
    "de789b41-5490-488c-bc95-1dfbc34c8298": {
     "id": "de789b41-5490-488c-bc95-1dfbc34c8298",
     "prev": "1bcfbce4-56fb-4398-84b4-677bcf8bb673",
     "regions": {
      "944fea5e-691a-40b2-9014-5b7026932b08": {
       "attrs": {
        "height": 0.8,
        "width": 0.8,
        "x": 0.1,
        "y": 0.1
       },
       "content": {
        "cell": "5fa9a99b-d47f-4dba-ab87-82068771365d",
        "part": "whole"
       },
       "id": "944fea5e-691a-40b2-9014-5b7026932b08"
      }
     }
    },
    "ef97e5ae-5985-4bcf-bff3-22c341217336": {
     "id": "ef97e5ae-5985-4bcf-bff3-22c341217336",
     "prev": "0a2f0b2e-10c1-4ff3-8f0d-ec4df416b2f2",
     "regions": {
      "3c09d427-2242-4504-b053-5b4a0762e03d": {
       "attrs": {
        "height": 0.8,
        "width": 0.8,
        "x": 0.1,
        "y": 0.1
       },
       "content": {
        "cell": "ce045cc5-45eb-4f6f-b9dd-6d9d34afa622",
        "part": "whole"
       },
       "id": "3c09d427-2242-4504-b053-5b4a0762e03d"
      }
     }
    },
    "fec05d0a-de03-410d-bfa3-68a1d8faed9b": {
     "id": "fec05d0a-de03-410d-bfa3-68a1d8faed9b",
     "prev": "bf4b93b4-1407-4e9a-96d9-a84c936b982f",
     "regions": {
      "7efab4e7-883c-46a6-81d2-9e8a5515d31b": {
       "attrs": {
        "height": 0.8,
        "width": 0.8,
        "x": 0.1,
        "y": 0.1
       },
       "content": {
        "cell": "58e710ef-59a2-4bbb-b9fc-02cb0b4148b9",
        "part": "whole"
       },
       "id": "7efab4e7-883c-46a6-81d2-9e8a5515d31b"
      }
     }
    }
   },
   "themes": {}
  }
 },
 "nbformat": 4,
 "nbformat_minor": 1
}
